{
 "cells": [
  {
   "cell_type": "code",
   "execution_count": 1,
   "id": "ee1eb2c7",
   "metadata": {},
   "outputs": [],
   "source": [
    "#Importing the required librabries\n",
    "%matplotlib inline\n",
    "import pandas as pd\n",
    "import matplotlib as mpl\n",
    "import matplotlib.pyplot as plt\n",
    "import seaborn as sns\n",
    "from numpy import math\n",
    "import numpy as np\n",
    "from sklearn.preprocessing import PolynomialFeatures\n",
    "from sklearn.preprocessing import MinMaxScaler\n",
    "from sklearn.model_selection import train_test_split\n",
    "from sklearn.linear_model import LinearRegression\n",
    "from sklearn.metrics import r2_score\n",
    "from sklearn.metrics import mean_squared_error\n",
    "import warnings; warnings.filterwarnings(\"ignore\"); warnings.simplefilter('ignore')"
   ]
  },
  {
   "cell_type": "code",
   "execution_count": 2,
   "id": "74a4872e",
   "metadata": {},
   "outputs": [
    {
     "data": {
      "text/html": [
       "<div>\n",
       "<style scoped>\n",
       "    .dataframe tbody tr th:only-of-type {\n",
       "        vertical-align: middle;\n",
       "    }\n",
       "\n",
       "    .dataframe tbody tr th {\n",
       "        vertical-align: top;\n",
       "    }\n",
       "\n",
       "    .dataframe thead th {\n",
       "        text-align: right;\n",
       "    }\n",
       "</style>\n",
       "<table border=\"1\" class=\"dataframe\">\n",
       "  <thead>\n",
       "    <tr style=\"text-align: right;\">\n",
       "      <th></th>\n",
       "      <th>Thickness</th>\n",
       "      <th>Current</th>\n",
       "      <th>Voltage</th>\n",
       "      <th>welding speed</th>\n",
       "      <th>width</th>\n",
       "      <th>DOP</th>\n",
       "      <th>Throat</th>\n",
       "      <th>Leg size</th>\n",
       "    </tr>\n",
       "  </thead>\n",
       "  <tbody>\n",
       "    <tr>\n",
       "      <th>0</th>\n",
       "      <td>10</td>\n",
       "      <td>310</td>\n",
       "      <td>28</td>\n",
       "      <td>9.25</td>\n",
       "      <td>4.7</td>\n",
       "      <td>1.8</td>\n",
       "      <td>4.2</td>\n",
       "      <td>4.9</td>\n",
       "    </tr>\n",
       "    <tr>\n",
       "      <th>1</th>\n",
       "      <td>3</td>\n",
       "      <td>175</td>\n",
       "      <td>25</td>\n",
       "      <td>7.00</td>\n",
       "      <td>5.0</td>\n",
       "      <td>1.0</td>\n",
       "      <td>4.0</td>\n",
       "      <td>4.4</td>\n",
       "    </tr>\n",
       "    <tr>\n",
       "      <th>2</th>\n",
       "      <td>6</td>\n",
       "      <td>175</td>\n",
       "      <td>18</td>\n",
       "      <td>5.00</td>\n",
       "      <td>5.6</td>\n",
       "      <td>1.2</td>\n",
       "      <td>4.6</td>\n",
       "      <td>4.3</td>\n",
       "    </tr>\n",
       "    <tr>\n",
       "      <th>3</th>\n",
       "      <td>4</td>\n",
       "      <td>125</td>\n",
       "      <td>30</td>\n",
       "      <td>4.00</td>\n",
       "      <td>4.1</td>\n",
       "      <td>1.6</td>\n",
       "      <td>5.0</td>\n",
       "      <td>4.5</td>\n",
       "    </tr>\n",
       "    <tr>\n",
       "      <th>4</th>\n",
       "      <td>6</td>\n",
       "      <td>275</td>\n",
       "      <td>30</td>\n",
       "      <td>8.00</td>\n",
       "      <td>5.0</td>\n",
       "      <td>1.8</td>\n",
       "      <td>4.8</td>\n",
       "      <td>5.0</td>\n",
       "    </tr>\n",
       "  </tbody>\n",
       "</table>\n",
       "</div>"
      ],
      "text/plain": [
       "   Thickness  Current  Voltage  welding speed  width  DOP  Throat   Leg size\n",
       "0         10      310       28           9.25    4.7  1.8      4.2       4.9\n",
       "1          3      175       25           7.00    5.0  1.0      4.0       4.4\n",
       "2          6      175       18           5.00    5.6  1.2      4.6       4.3\n",
       "3          4      125       30           4.00    4.1  1.6      5.0       4.5\n",
       "4          6      275       30           8.00    5.0  1.8      4.8       5.0"
      ]
     },
     "execution_count": 2,
     "metadata": {},
     "output_type": "execute_result"
    }
   ],
   "source": [
    "#Loading data set in the pandas dataframe as df\n",
    "df=pd.read_csv('E:\\JUPYTER NOTE BOOK\\Dataset/dataset for project.csv')\n",
    "df.head()"
   ]
  },
  {
   "cell_type": "markdown",
   "id": "2368b92b",
   "metadata": {},
   "source": [
    "# Width"
   ]
  },
  {
   "cell_type": "code",
   "execution_count": 3,
   "id": "2a508241",
   "metadata": {},
   "outputs": [],
   "source": [
    "#Making dependent and independent variables\n",
    "x=df.iloc[:,:4]\n",
    "y=df['width']"
   ]
  },
  {
   "cell_type": "code",
   "execution_count": 4,
   "id": "8f32ee4e",
   "metadata": {},
   "outputs": [],
   "source": [
    "#Using train test split ,split the data set set into tarin and test part\n",
    "X_train, X_test, y_train, y_test = train_test_split(x, y, test_size =.15,random_state=4)"
   ]
  },
  {
   "cell_type": "code",
   "execution_count": 5,
   "id": "5b5d6556",
   "metadata": {},
   "outputs": [],
   "source": [
    "#scaling done by minmax scalar\n",
    "scaler = MinMaxScaler()\n",
    "X_train = scaler.fit_transform(X_train)\n",
    "X_test = scaler.transform(X_test)"
   ]
  },
  {
   "cell_type": "code",
   "execution_count": 6,
   "id": "2a7fd131",
   "metadata": {},
   "outputs": [
    {
     "data": {
      "text/plain": [
       "0.6733347267450518"
      ]
     },
     "execution_count": 6,
     "metadata": {},
     "output_type": "execute_result"
    }
   ],
   "source": [
    "#creating regression object\n",
    "regressor = LinearRegression()\n",
    "regressor.fit(X_train, y_train)\n",
    "y_pred = regressor.predict(X_test)\n",
    "r2_score(y_test, y_pred)"
   ]
  },
  {
   "cell_type": "code",
   "execution_count": 7,
   "id": "c18c2212",
   "metadata": {},
   "outputs": [
    {
     "data": {
      "text/plain": [
       "<matplotlib.legend.Legend at 0x1b91a417280>"
      ]
     },
     "execution_count": 7,
     "metadata": {},
     "output_type": "execute_result"
    },
    {
     "data": {
      "image/png": "[encoded data removed]",
      "text/plain": [
       "<Figure size 432x288 with 1 Axes>"
      ]
     },
     "metadata": {
      "needs_background": "light"
     },
     "output_type": "display_data"
    }
   ],
   "source": [
    "ax1=sns.distplot(y_test,hist=False,color='r',label='actual values')\n",
    "sns.distplot(y_pred,hist=False,color='b',label='Predicted _values',ax=ax1)\n",
    "plt.legend()"
   ]
  },
  {
   "cell_type": "code",
   "execution_count": 8,
   "id": "2446ad73",
   "metadata": {},
   "outputs": [],
   "source": [
    "X_train, X_test, y_train, y_test = train_test_split(x, y, test_size =.15,random_state=3)"
   ]
  },
  {
   "cell_type": "code",
   "execution_count": 9,
   "id": "260060e7",
   "metadata": {},
   "outputs": [
    {
     "data": {
      "text/plain": [
       "<AxesSubplot:>"
      ]
     },
     "execution_count": 9,
     "metadata": {},
     "output_type": "execute_result"
    },
    {
     "data": {
      "image/png": "[encoded data removed]",
      "text/plain": [
       "<Figure size 432x288 with 1 Axes>"
      ]
     },
     "metadata": {
      "needs_background": "light"
     },
     "output_type": "display_data"
    }
   ],
   "source": [
    "requ_test=[]\n",
    "order=[1,2,3,4,5,6,7,8,9,10]\n",
    "for i in order:\n",
    "  pr=PolynomialFeatures(degree=i)\n",
    "  x_train_pr=pr.fit_transform(X_train)\n",
    "  x_test_pr=pr.fit_transform(X_test)\n",
    "  regressor.fit(x_train_pr,y_train)\n",
    "  requ_test.append(regressor.score(x_test_pr,y_test))\n",
    "sns.lineplot(x=order,y=requ_test) "
   ]
  },
  {
   "cell_type": "code",
   "execution_count": 10,
   "id": "ea4dee99",
   "metadata": {},
   "outputs": [
    {
     "data": {
      "text/plain": [
       "0.932460602063307"
      ]
     },
     "execution_count": 10,
     "metadata": {},
     "output_type": "execute_result"
    }
   ],
   "source": [
    "pr=PolynomialFeatures(degree=2)\n",
    "x_train_pr=pr.fit_transform(X_train)\n",
    "x_test_pr=pr.fit_transform(X_test)\n",
    "regressor.fit(x_train_pr,y_train)\n",
    "y_pred_pr=regressor.predict(x_test_pr)\n",
    "r2_score(y_test,y_pred_pr)"
   ]
  },
  {
   "cell_type": "code",
   "execution_count": 11,
   "id": "4d497ff1",
   "metadata": {},
   "outputs": [
    {
     "data": {
      "text/plain": [
       "6     5.3\n",
       "54    4.3\n",
       "49    4.7\n",
       "59    4.9\n",
       "47    5.1\n",
       "23    4.7\n",
       "31    4.6\n",
       "34    4.7\n",
       "25    4.9\n",
       "13    5.1\n",
       "Name: width, dtype: float64"
      ]
     },
     "execution_count": 11,
     "metadata": {},
     "output_type": "execute_result"
    }
   ],
   "source": [
    "y_test"
   ]
  },
  {
   "cell_type": "code",
   "execution_count": 12,
   "id": "d0f3861f",
   "metadata": {},
   "outputs": [
    {
     "data": {
      "text/plain": [
       "array([5.32414572, 4.43019198, 4.75992638, 4.98841752, 5.17276964,\n",
       "       4.72609873, 4.56313448, 4.81292007, 4.89992038, 5.14867347])"
      ]
     },
     "execution_count": 12,
     "metadata": {},
     "output_type": "execute_result"
    }
   ],
   "source": [
    "y_pred_pr"
   ]
  },
  {
   "cell_type": "code",
   "execution_count": 13,
   "id": "ae9511a6",
   "metadata": {
    "scrolled": true
   },
   "outputs": [
    {
     "data": {
      "text/plain": [
       "<matplotlib.legend.Legend at 0x1b91c17c700>"
      ]
     },
     "execution_count": 13,
     "metadata": {},
     "output_type": "execute_result"
    },
    {
     "data": {
      "image/png": "[encoded data removed]",
      "text/plain": [
       "<Figure size 432x288 with 1 Axes>"
      ]
     },
     "metadata": {
      "needs_background": "light"
     },
     "output_type": "display_data"
    }
   ],
   "source": [
    "ax1=sns.distplot(y_test,hist=False,color='r',label='actual values')\n",
    "sns.distplot(y_pred_pr,hist=False,color='b',label='Predicted _values',ax=ax1)\n",
    "plt.legend()"
   ]
  },
  {
   "cell_type": "markdown",
   "id": "3f6dfd8d",
   "metadata": {},
   "source": [
    "# Depth of pentration"
   ]
  },
  {
   "cell_type": "code",
   "execution_count": 14,
   "id": "b881ead5",
   "metadata": {},
   "outputs": [],
   "source": [
    "x=df.iloc[:,:4]\n",
    "y=df['DOP']"
   ]
  },
  {
   "cell_type": "code",
   "execution_count": 15,
   "id": "c7d99689",
   "metadata": {},
   "outputs": [],
   "source": [
    "X_train, X_test, y_train, y_test = train_test_split(x, y, test_size =.2,random_state=43)"
   ]
  },
  {
   "cell_type": "code",
   "execution_count": 16,
   "id": "8a7c7794",
   "metadata": {},
   "outputs": [],
   "source": [
    "scaler = MinMaxScaler()\n",
    "X_train = scaler.fit_transform(X_train)\n",
    "X_test = scaler.transform(X_test)"
   ]
  },
  {
   "cell_type": "code",
   "execution_count": 17,
   "id": "f1c14773",
   "metadata": {},
   "outputs": [
    {
     "data": {
      "text/plain": [
       "0.9214751476083833"
      ]
     },
     "execution_count": 17,
     "metadata": {},
     "output_type": "execute_result"
    }
   ],
   "source": [
    "regressor_d = LinearRegression()\n",
    "regressor_d.fit(X_train, y_train)\n",
    "y_pred_d = regressor_d.predict(X_test)\n",
    "r2_score(y_test, y_pred_d)"
   ]
  },
  {
   "cell_type": "code",
   "execution_count": 18,
   "id": "3ddc6739",
   "metadata": {},
   "outputs": [
    {
     "data": {
      "text/plain": [
       "<matplotlib.legend.Legend at 0x1b91c1a6df0>"
      ]
     },
     "execution_count": 18,
     "metadata": {},
     "output_type": "execute_result"
    },
    {
     "data": {
      "image/png": "[encoded data removed]",
      "text/plain": [
       "<Figure size 432x288 with 1 Axes>"
      ]
     },
     "metadata": {
      "needs_background": "light"
     },
     "output_type": "display_data"
    }
   ],
   "source": [
    "ax1=sns.distplot(y_test,hist=False,color='r',label='actual values')\n",
    "sns.distplot(y_pred_d,hist=False,color='b',label='Predicted _values',ax=ax1)\n",
    "plt.legend()"
   ]
  },
  {
   "cell_type": "code",
   "execution_count": 19,
   "id": "75b933ba",
   "metadata": {},
   "outputs": [
    {
     "data": {
      "text/plain": [
       "<AxesSubplot:>"
      ]
     },
     "execution_count": 19,
     "metadata": {},
     "output_type": "execute_result"
    },
    {
     "data": {
      "image/png": "[encoded data removed]",
      "text/plain": [
       "<Figure size 432x288 with 1 Axes>"
      ]
     },
     "metadata": {
      "needs_background": "light"
     },
     "output_type": "display_data"
    }
   ],
   "source": [
    "requ_test=[]\n",
    "order=[2,3,4,5,6,7,8,9,10]\n",
    "for i in order:\n",
    "  pr=PolynomialFeatures(degree=i)\n",
    "  x_train_pr=pr.fit_transform(X_train)\n",
    "  x_test_pr=pr.fit_transform(X_test)\n",
    "  regressor.fit(x_train_pr,y_train)\n",
    "  requ_test.append(regressor.score(x_test_pr,y_test))\n",
    "sns.lineplot(x=order,y=requ_test) "
   ]
  },
  {
   "cell_type": "code",
   "execution_count": 20,
   "id": "d7dba89e",
   "metadata": {},
   "outputs": [
    {
     "data": {
      "text/plain": [
       "0.9268830427349437"
      ]
     },
     "execution_count": 20,
     "metadata": {},
     "output_type": "execute_result"
    }
   ],
   "source": [
    "pr=PolynomialFeatures(degree=2)\n",
    "x_train_pr=pr.fit_transform(X_train)\n",
    "x_test_pr=pr.fit_transform(X_test)\n",
    "regressor = LinearRegression()\n",
    "regressor.fit(x_train_pr,y_train)\n",
    "y_pred_pr=regressor.predict(x_test_pr)\n",
    "r2_score(y_pred_pr,y_test)"
   ]
  },
  {
   "cell_type": "code",
   "execution_count": 21,
   "id": "16427e3d",
   "metadata": {},
   "outputs": [
    {
     "data": {
      "text/plain": [
       "<matplotlib.legend.Legend at 0x1b91c2845e0>"
      ]
     },
     "execution_count": 21,
     "metadata": {},
     "output_type": "execute_result"
    },
    {
     "data": {
      "image/png": "[encoded data removed]",
      "text/plain": [
       "<Figure size 432x288 with 1 Axes>"
      ]
     },
     "metadata": {
      "needs_background": "light"
     },
     "output_type": "display_data"
    }
   ],
   "source": [
    "ax1=sns.distplot(y_test,hist=False,color='r',label='actual values')\n",
    "sns.distplot(y_pred_pr,hist=False,color='b',label='Predicted _values',ax=ax1)\n",
    "plt.legend()"
   ]
  },
  {
   "cell_type": "code",
   "execution_count": 22,
   "id": "c1d054e3",
   "metadata": {},
   "outputs": [
    {
     "data": {
      "text/plain": [
       "array([1.59428602, 1.83343914, 1.55228035, 2.10099752, 1.97806594,\n",
       "       1.99280272, 1.81488592, 0.91726469, 1.54095916, 1.83150503,\n",
       "       1.85400186, 2.02524561, 1.53255699])"
      ]
     },
     "execution_count": 22,
     "metadata": {},
     "output_type": "execute_result"
    }
   ],
   "source": [
    "y_pred_pr"
   ]
  },
  {
   "cell_type": "code",
   "execution_count": 23,
   "id": "7cce3968",
   "metadata": {},
   "outputs": [
    {
     "data": {
      "text/plain": [
       "52    1.5\n",
       "45    1.8\n",
       "18    1.5\n",
       "5     2.1\n",
       "37    2.0\n",
       "38    2.0\n",
       "39    1.9\n",
       "19    1.0\n",
       "55    1.6\n",
       "33    1.8\n",
       "22    1.8\n",
       "14    1.8\n",
       "6     1.5\n",
       "Name: DOP, dtype: float64"
      ]
     },
     "execution_count": 23,
     "metadata": {},
     "output_type": "execute_result"
    }
   ],
   "source": [
    "y_test"
   ]
  },
  {
   "cell_type": "code",
   "execution_count": 24,
   "id": "54be4fa3",
   "metadata": {},
   "outputs": [
    {
     "data": {
      "text/plain": [
       "0.9697526799450613"
      ]
     },
     "execution_count": 24,
     "metadata": {},
     "output_type": "execute_result"
    }
   ],
   "source": [
    "y_pred_train_pr=regressor.predict(x_train_pr)\n",
    "r2_score(y_pred_train_pr,y_train)"
   ]
  },
  {
   "cell_type": "code",
   "execution_count": 25,
   "id": "45d28ab7",
   "metadata": {},
   "outputs": [
    {
     "data": {
      "text/plain": [
       "{'alpha': 0.05}"
      ]
     },
     "execution_count": 25,
     "metadata": {},
     "output_type": "execute_result"
    }
   ],
   "source": [
    "from sklearn.linear_model import Ridge\n",
    "from sklearn.model_selection import GridSearchCV\n",
    "rd=Ridge()\n",
    "parameters={'alpha':[0.05,0.6,1,3]}\n",
    "gr=GridSearchCV(rd,parameters,cv=20)\n",
    "gr.fit(x_train_pr,y_train)\n",
    "gr.best_params_"
   ]
  },
  {
   "cell_type": "code",
   "execution_count": 26,
   "id": "4449e3a8",
   "metadata": {},
   "outputs": [
    {
     "data": {
      "text/plain": [
       "0.9551056722246177"
      ]
     },
     "execution_count": 26,
     "metadata": {},
     "output_type": "execute_result"
    }
   ],
   "source": [
    "gr_pred_d=gr.predict(x_test_pr)\n",
    "r2_score(gr_pred_d,y_test)"
   ]
  },
  {
   "cell_type": "code",
   "execution_count": 27,
   "id": "3dde563e",
   "metadata": {},
   "outputs": [
    {
     "data": {
      "text/plain": [
       "52    1.5\n",
       "45    1.8\n",
       "18    1.5\n",
       "5     2.1\n",
       "37    2.0\n",
       "38    2.0\n",
       "39    1.9\n",
       "19    1.0\n",
       "55    1.6\n",
       "33    1.8\n",
       "22    1.8\n",
       "14    1.8\n",
       "6     1.5\n",
       "Name: DOP, dtype: float64"
      ]
     },
     "execution_count": 27,
     "metadata": {},
     "output_type": "execute_result"
    }
   ],
   "source": [
    "y_test"
   ]
  },
  {
   "cell_type": "code",
   "execution_count": 28,
   "id": "04328abd",
   "metadata": {},
   "outputs": [
    {
     "data": {
      "text/plain": [
       "array([1.54337039, 1.84741301, 1.50599497, 2.07064887, 1.9526032 ,\n",
       "       1.99006584, 1.76772827, 1.04761011, 1.55746389, 1.77952561,\n",
       "       1.8573027 , 1.87719176, 1.54358906])"
      ]
     },
     "execution_count": 28,
     "metadata": {},
     "output_type": "execute_result"
    }
   ],
   "source": [
    "gr_pred_d"
   ]
  },
  {
   "cell_type": "code",
   "execution_count": 29,
   "id": "cec3834a",
   "metadata": {},
   "outputs": [
    {
     "data": {
      "text/plain": [
       "<matplotlib.legend.Legend at 0x1b91c292b50>"
      ]
     },
     "execution_count": 29,
     "metadata": {},
     "output_type": "execute_result"
    },
    {
     "data": {
      "image/png": "[encoded data removed]",
      "text/plain": [
       "<Figure size 432x288 with 1 Axes>"
      ]
     },
     "metadata": {
      "needs_background": "light"
     },
     "output_type": "display_data"
    }
   ],
   "source": [
    "ax1=sns.distplot(y_test,hist=False,color='r',label='actual values')\n",
    "sns.distplot(gr_pred_d,hist=False,color='b',label='Predicted _values',ax=ax1)\n",
    "plt.legend()"
   ]
  },
  {
   "cell_type": "markdown",
   "id": "87ac3df9",
   "metadata": {},
   "source": [
    "# Throat length"
   ]
  },
  {
   "cell_type": "code",
   "execution_count": 30,
   "id": "8eca721f",
   "metadata": {},
   "outputs": [],
   "source": [
    "x=df.iloc[:,:4]\n",
    "y=df['Throat ']"
   ]
  },
  {
   "cell_type": "code",
   "execution_count": 31,
   "id": "18609706",
   "metadata": {},
   "outputs": [],
   "source": [
    "X_train, X_test, y_train, y_test = train_test_split(x, y, test_size =.20,random_state=43)"
   ]
  },
  {
   "cell_type": "code",
   "execution_count": 32,
   "id": "a9ec6f77",
   "metadata": {},
   "outputs": [],
   "source": [
    "scaler = MinMaxScaler()\n",
    "X_train = scaler.fit_transform(X_train)\n",
    "X_test = scaler.transform(X_test)"
   ]
  },
  {
   "cell_type": "code",
   "execution_count": 33,
   "id": "1fe186ab",
   "metadata": {},
   "outputs": [
    {
     "data": {
      "text/plain": [
       "0.7239507473225555"
      ]
     },
     "execution_count": 33,
     "metadata": {},
     "output_type": "execute_result"
    }
   ],
   "source": [
    "regressor = LinearRegression()\n",
    "regressor.fit(X_train, y_train)\n",
    "y_pred = regressor.predict(X_test)\n",
    "r2_score(y_test, y_pred)"
   ]
  },
  {
   "cell_type": "code",
   "execution_count": 34,
   "id": "7ea04065",
   "metadata": {},
   "outputs": [
    {
     "data": {
      "text/plain": [
       "<matplotlib.legend.Legend at 0x1b91d345250>"
      ]
     },
     "execution_count": 34,
     "metadata": {},
     "output_type": "execute_result"
    },
    {
     "data": {
      "image/png": "[encoded data removed]",
      "text/plain": [
       "<Figure size 432x288 with 1 Axes>"
      ]
     },
     "metadata": {
      "needs_background": "light"
     },
     "output_type": "display_data"
    }
   ],
   "source": [
    "ax1=sns.distplot(y_test,hist=False,color='r',label='actual values')\n",
    "sns.distplot(y_pred,hist=False,color='b',label='Predicted _values',ax=ax1)\n",
    "plt.legend()"
   ]
  },
  {
   "cell_type": "code",
   "execution_count": 35,
   "id": "2696f39a",
   "metadata": {},
   "outputs": [
    {
     "data": {
      "text/plain": [
       "<AxesSubplot:>"
      ]
     },
     "execution_count": 35,
     "metadata": {},
     "output_type": "execute_result"
    },
    {
     "data": {
      "image/png": "[encoded data removed]",
      "text/plain": [
       "<Figure size 432x288 with 1 Axes>"
      ]
     },
     "metadata": {
      "needs_background": "light"
     },
     "output_type": "display_data"
    }
   ],
   "source": [
    "requ_test=[]\n",
    "order=[3,4,5,6,7,8,9,10]\n",
    "for i in order:\n",
    "  pr=PolynomialFeatures(degree=i)\n",
    "  x_train_pr=pr.fit_transform(X_train)\n",
    "  x_test_pr=pr.fit_transform(X_test)\n",
    "  regressor.fit(x_train_pr,y_train)\n",
    "  requ_test.append(regressor.score(x_test_pr,y_test))\n",
    "sns.lineplot(x=order,y=requ_test) "
   ]
  },
  {
   "cell_type": "code",
   "execution_count": 36,
   "id": "0a8f3e19",
   "metadata": {},
   "outputs": [
    {
     "data": {
      "text/plain": [
       "0.9453847573065642"
      ]
     },
     "execution_count": 36,
     "metadata": {},
     "output_type": "execute_result"
    }
   ],
   "source": [
    "pr=PolynomialFeatures(degree=2)\n",
    "x_train_pr=pr.fit_transform(X_train)\n",
    "x_test_pr=pr.fit_transform(X_test)\n",
    "regressor.fit(x_train_pr,y_train)\n",
    "y_pred_pr=regressor.predict(x_test_pr)\n",
    "r2_score(y_pred_pr,y_test)"
   ]
  },
  {
   "cell_type": "code",
   "execution_count": 37,
   "id": "5b0ebe26",
   "metadata": {},
   "outputs": [
    {
     "data": {
      "text/plain": [
       "<matplotlib.legend.Legend at 0x1b91d2e07f0>"
      ]
     },
     "execution_count": 37,
     "metadata": {},
     "output_type": "execute_result"
    },
    {
     "data": {
      "image/png": "[encoded data removed]",
      "text/plain": [
       "<Figure size 432x288 with 1 Axes>"
      ]
     },
     "metadata": {
      "needs_background": "light"
     },
     "output_type": "display_data"
    }
   ],
   "source": [
    "ax1=sns.distplot(y_test,hist=False,color='r',label='actual values')\n",
    "sns.distplot(y_pred_pr,hist=False,color='b',label='Predicted _values',ax=ax1)\n",
    "plt.legend()"
   ]
  },
  {
   "cell_type": "code",
   "execution_count": 38,
   "id": "8007aa8c",
   "metadata": {},
   "outputs": [
    {
     "data": {
      "text/plain": [
       "0.9828144194660353"
      ]
     },
     "execution_count": 38,
     "metadata": {},
     "output_type": "execute_result"
    }
   ],
   "source": [
    "y_pred_train_pr=regressor.predict(x_train_pr)\n",
    "r2_score(y_pred_train_pr,y_train)"
   ]
  },
  {
   "cell_type": "code",
   "execution_count": 39,
   "id": "6ba46878",
   "metadata": {},
   "outputs": [
    {
     "data": {
      "text/plain": [
       "{'alpha': 0.002}"
      ]
     },
     "execution_count": 39,
     "metadata": {},
     "output_type": "execute_result"
    }
   ],
   "source": [
    "from sklearn.linear_model import Ridge\n",
    "from sklearn.model_selection import GridSearchCV\n",
    "rd=Ridge()\n",
    "parameters={'alpha':[0.003,0.002,1,3]}\n",
    "gr=GridSearchCV(rd,parameters,cv=10)\n",
    "gr.fit(x_train_pr,y_train)\n",
    "gr.best_params_"
   ]
  },
  {
   "cell_type": "code",
   "execution_count": 40,
   "id": "1d825f43",
   "metadata": {},
   "outputs": [
    {
     "data": {
      "text/plain": [
       "0.9472902501325424"
      ]
     },
     "execution_count": 40,
     "metadata": {},
     "output_type": "execute_result"
    }
   ],
   "source": [
    "gr_pred=gr.predict(x_test_pr)\n",
    "r2_score(gr_pred,y_test)"
   ]
  },
  {
   "cell_type": "markdown",
   "id": "92811fec",
   "metadata": {},
   "source": [
    "# Leg size"
   ]
  },
  {
   "cell_type": "code",
   "execution_count": 41,
   "id": "58ac7849",
   "metadata": {},
   "outputs": [],
   "source": [
    "x=df.iloc[:,:4]\n",
    "y=df['Leg size']"
   ]
  },
  {
   "cell_type": "code",
   "execution_count": 42,
   "id": "50647243",
   "metadata": {},
   "outputs": [],
   "source": [
    "X_train, X_test, y_train, y_test = train_test_split(x, y, test_size =.25,random_state=43)"
   ]
  },
  {
   "cell_type": "code",
   "execution_count": 43,
   "id": "a41332c7",
   "metadata": {},
   "outputs": [],
   "source": [
    "scaler = MinMaxScaler()\n",
    "X_train = scaler.fit_transform(X_train)\n",
    "X_test = scaler.transform(X_test)"
   ]
  },
  {
   "cell_type": "code",
   "execution_count": 44,
   "id": "935ac533",
   "metadata": {},
   "outputs": [
    {
     "data": {
      "text/plain": [
       "0.6066018434141054"
      ]
     },
     "execution_count": 44,
     "metadata": {},
     "output_type": "execute_result"
    }
   ],
   "source": [
    "regressor = LinearRegression()\n",
    "regressor.fit(X_train, y_train)\n",
    "y_pred = regressor.predict(X_test)\n",
    "r2_score(y_test, y_pred)"
   ]
  },
  {
   "cell_type": "code",
   "execution_count": 45,
   "id": "c9f934fb",
   "metadata": {},
   "outputs": [
    {
     "data": {
      "text/plain": [
       "<matplotlib.legend.Legend at 0x1b91d4bbf40>"
      ]
     },
     "execution_count": 45,
     "metadata": {},
     "output_type": "execute_result"
    },
    {
     "data": {
      "image/png": "[encoded data removed]",
      "text/plain": [
       "<Figure size 432x288 with 1 Axes>"
      ]
     },
     "metadata": {
      "needs_background": "light"
     },
     "output_type": "display_data"
    }
   ],
   "source": [
    "ax1=sns.distplot(y_test,hist=False,color='r',label='actual values')\n",
    "sns.distplot(y_pred,hist=False,color='b',label='Predicted _values',ax=ax1)\n",
    "plt.legend()"
   ]
  },
  {
   "cell_type": "code",
   "execution_count": 46,
   "id": "dc59765e",
   "metadata": {},
   "outputs": [
    {
     "data": {
      "text/plain": [
       "<AxesSubplot:>"
      ]
     },
     "execution_count": 46,
     "metadata": {},
     "output_type": "execute_result"
    },
    {
     "data": {
      "image/png": "[encoded data removed]",
      "text/plain": [
       "<Figure size 432x288 with 1 Axes>"
      ]
     },
     "metadata": {
      "needs_background": "light"
     },
     "output_type": "display_data"
    }
   ],
   "source": [
    "requ_test=[]\n",
    "order=[1,2,3,4,5,6,7,8,9,10]\n",
    "for i in order:\n",
    "  pr=PolynomialFeatures(degree=i)\n",
    "  x_train_pr=pr.fit_transform(X_train)\n",
    "  x_test_pr=pr.fit_transform(X_test)\n",
    "  regressor.fit(x_train_pr,y_train)\n",
    "  requ_test.append(regressor.score(x_test_pr,y_test))\n",
    "sns.lineplot(x=order,y=requ_test) "
   ]
  },
  {
   "cell_type": "code",
   "execution_count": 47,
   "id": "c9cc1c3b",
   "metadata": {},
   "outputs": [
    {
     "data": {
      "text/plain": [
       "0.8908445373422028"
      ]
     },
     "execution_count": 47,
     "metadata": {},
     "output_type": "execute_result"
    }
   ],
   "source": [
    "pr=PolynomialFeatures(degree=2)\n",
    "x_train_pr_l=pr.fit_transform(X_train)\n",
    "x_test_pr_l=pr.fit_transform(X_test)\n",
    "regressor.fit(x_train_pr_l,y_train)\n",
    "y_pred_pr_l=regressor.predict(x_test_pr_l)\n",
    "r2_score(y_test,y_pred_pr_l)"
   ]
  },
  {
   "cell_type": "code",
   "execution_count": 48,
   "id": "14b068bb",
   "metadata": {},
   "outputs": [
    {
     "data": {
      "text/plain": [
       "<matplotlib.legend.Legend at 0x1b91d4bb3d0>"
      ]
     },
     "execution_count": 48,
     "metadata": {},
     "output_type": "execute_result"
    },
    {
     "data": {
      "image/png": "[encoded data removed]",
      "text/plain": [
       "<Figure size 432x288 with 1 Axes>"
      ]
     },
     "metadata": {
      "needs_background": "light"
     },
     "output_type": "display_data"
    }
   ],
   "source": [
    "ax1=sns.distplot(y_test,hist=False,color='r',label='actual values')\n",
    "sns.distplot(y_pred_pr_l,hist=False,color='b',label='Predicted _values',ax=ax1)\n",
    "plt.legend()"
   ]
  },
  {
   "cell_type": "code",
   "execution_count": 49,
   "id": "18c8bcfa",
   "metadata": {},
   "outputs": [
    {
     "data": {
      "text/plain": [
       "0.9825231424936426"
      ]
     },
     "execution_count": 49,
     "metadata": {},
     "output_type": "execute_result"
    }
   ],
   "source": [
    "y_pred_train_pr=regressor.predict(x_train_pr_l)\n",
    "r2_score(y_pred_train_pr,y_train)"
   ]
  },
  {
   "cell_type": "code",
   "execution_count": 50,
   "id": "24c806b2",
   "metadata": {},
   "outputs": [
    {
     "data": {
      "text/plain": [
       "{'alpha': 0.003}"
      ]
     },
     "execution_count": 50,
     "metadata": {},
     "output_type": "execute_result"
    }
   ],
   "source": [
    "from sklearn.linear_model import Ridge\n",
    "from sklearn.model_selection import GridSearchCV\n",
    "rd=Ridge()\n",
    "parameters={'alpha':[.003,.001,.0009,1,3]}\n",
    "gr=GridSearchCV(rd,parameters,cv=10)\n",
    "gr.fit(x_train_pr_l,y_train)\n",
    "gr.best_params_"
   ]
  },
  {
   "cell_type": "code",
   "execution_count": 51,
   "id": "86eae30f",
   "metadata": {},
   "outputs": [
    {
     "data": {
      "text/plain": [
       "0.9015850031080079"
      ]
     },
     "execution_count": 51,
     "metadata": {},
     "output_type": "execute_result"
    }
   ],
   "source": [
    "gr_pred=gr.predict(x_test_pr_l)\n",
    "r2_score(gr_pred,y_test)"
   ]
  },
  {
   "cell_type": "code",
   "execution_count": 52,
   "id": "d23bcf84",
   "metadata": {},
   "outputs": [
    {
     "data": {
      "text/plain": [
       "array([4.72894719, 5.29413403, 4.52427851, 5.18604992, 4.76789737,\n",
       "       4.57678285, 4.88072241, 4.2031069 , 4.44442958, 4.87017459,\n",
       "       4.83676045, 5.10916803, 4.7358732 , 4.71864387, 4.72654171,\n",
       "       5.18653685])"
      ]
     },
     "execution_count": 52,
     "metadata": {},
     "output_type": "execute_result"
    }
   ],
   "source": [
    "gr_pred"
   ]
  },
  {
   "cell_type": "code",
   "execution_count": 53,
   "id": "84b467c2",
   "metadata": {},
   "outputs": [
    {
     "data": {
      "text/plain": [
       "52    4.7\n",
       "45    5.0\n",
       "18    4.5\n",
       "5     5.2\n",
       "37    4.7\n",
       "38    4.6\n",
       "39    4.9\n",
       "19    4.2\n",
       "55    4.5\n",
       "33    4.9\n",
       "22    4.9\n",
       "14    5.2\n",
       "6     4.7\n",
       "50    4.6\n",
       "13    4.7\n",
       "54    5.2\n",
       "Name: Leg size, dtype: float64"
      ]
     },
     "execution_count": 53,
     "metadata": {},
     "output_type": "execute_result"
    }
   ],
   "source": [
    "y_test"
   ]
  },
  {
   "cell_type": "code",
   "execution_count": null,
   "id": "c61150fa",
   "metadata": {},
   "outputs": [],
   "source": []
  }
 ],
 "metadata": {
  "kernelspec": {
   "display_name": "Python 3 (ipykernel)",
   "language": "python",
   "name": "python3"
  },
  "language_info": {
   "codemirror_mode": {
    "name": "ipython",
    "version": 3
   },
   "file_extension": ".py",
   "mimetype": "text/x-python",
   "name": "python",
   "nbconvert_exporter": "python",
   "pygments_lexer": "ipython3",
   "version": "3.9.12"
  }
 },
 "nbformat": 4,
 "nbformat_minor": 5
}
