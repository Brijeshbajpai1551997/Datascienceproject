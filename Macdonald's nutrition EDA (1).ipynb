{
 "cells": [
  {
   "cell_type": "markdown",
   "metadata": {
    "id": "DlEpNkbHQw0L"
   },
   "source": [
    "# **Macdonald's nutrition EDA**"
   ]
  },
  {
   "cell_type": "code",
   "execution_count": 33,
   "metadata": {
    "id": "KZF_Zt11lWuq"
   },
   "outputs": [],
   "source": [
    "import pandas as pd\n",
    "import numpy as np\n",
    "import pandas as pd\n",
    "from numpy import math\n",
    "import seaborn as sns\n",
    "import matplotlib.pyplot as plt\n",
    "%matplotlib inline\n",
    "import warnings; warnings.filterwarnings(\"ignore\"); warnings.simplefilter('ignore')"
   ]
  },
  {
   "cell_type": "markdown",
   "metadata": {
    "id": "hAG7633ZRBOb"
   },
   "source": [
    "# Loading the Data set in pandas dataframe df"
   ]
  },
  {
   "cell_type": "code",
   "execution_count": 34,
   "metadata": {
    "colab": {
     "base_uri": "https://localhost:8080/",
     "height": 354
    },
    "executionInfo": {
     "elapsed": 810,
     "status": "ok",
     "timestamp": 1662960436681,
     "user": {
      "displayName": "brijesh kumar",
      "userId": "13775173205173304916"
     },
     "user_tz": -330
    },
    "id": "3I7NgVm9lQzB",
    "outputId": "869d6629-f498-4ab2-c967-7120e1bdcd25"
   },
   "outputs": [
    {
     "data": {
      "text/html": [
       "<div>\n",
       "<style scoped>\n",
       "    .dataframe tbody tr th:only-of-type {\n",
       "        vertical-align: middle;\n",
       "    }\n",
       "\n",
       "    .dataframe tbody tr th {\n",
       "        vertical-align: top;\n",
       "    }\n",
       "\n",
       "    .dataframe thead th {\n",
       "        text-align: right;\n",
       "    }\n",
       "</style>\n",
       "<table border=\"1\" class=\"dataframe\">\n",
       "  <thead>\n",
       "    <tr style=\"text-align: right;\">\n",
       "      <th></th>\n",
       "      <th>Menu Category</th>\n",
       "      <th>Menu Items</th>\n",
       "      <th>Per Serve Size</th>\n",
       "      <th>Energy (kCal)</th>\n",
       "      <th>Protein (g)</th>\n",
       "      <th>Total fat (g)</th>\n",
       "      <th>Sat Fat (g)</th>\n",
       "      <th>Trans fat (g)</th>\n",
       "      <th>Cholesterols (mg)</th>\n",
       "      <th>Total carbohydrate (g)</th>\n",
       "      <th>Total Sugars (g)</th>\n",
       "      <th>Added Sugars (g)</th>\n",
       "      <th>Sodium (mg)</th>\n",
       "    </tr>\n",
       "  </thead>\n",
       "  <tbody>\n",
       "    <tr>\n",
       "      <th>0</th>\n",
       "      <td>Regular Menu</td>\n",
       "      <td>McVeggie™ Burger</td>\n",
       "      <td>168 g</td>\n",
       "      <td>402.05</td>\n",
       "      <td>10.24</td>\n",
       "      <td>13.83</td>\n",
       "      <td>5.34</td>\n",
       "      <td>0.16</td>\n",
       "      <td>2.49</td>\n",
       "      <td>56.54</td>\n",
       "      <td>7.90</td>\n",
       "      <td>4.49</td>\n",
       "      <td>706.13</td>\n",
       "    </tr>\n",
       "    <tr>\n",
       "      <th>1</th>\n",
       "      <td>Regular Menu</td>\n",
       "      <td>McAloo Tikki Burger®</td>\n",
       "      <td>146 g</td>\n",
       "      <td>339.52</td>\n",
       "      <td>8.50</td>\n",
       "      <td>11.31</td>\n",
       "      <td>4.27</td>\n",
       "      <td>0.20</td>\n",
       "      <td>1.47</td>\n",
       "      <td>50.27</td>\n",
       "      <td>7.05</td>\n",
       "      <td>4.07</td>\n",
       "      <td>545.34</td>\n",
       "    </tr>\n",
       "    <tr>\n",
       "      <th>2</th>\n",
       "      <td>Regular Menu</td>\n",
       "      <td>McSpicy™ Paneer Burger</td>\n",
       "      <td>199 g</td>\n",
       "      <td>652.76</td>\n",
       "      <td>20.29</td>\n",
       "      <td>39.45</td>\n",
       "      <td>17.12</td>\n",
       "      <td>0.18</td>\n",
       "      <td>21.85</td>\n",
       "      <td>52.33</td>\n",
       "      <td>8.35</td>\n",
       "      <td>5.27</td>\n",
       "      <td>1074.58</td>\n",
       "    </tr>\n",
       "    <tr>\n",
       "      <th>3</th>\n",
       "      <td>Regular Menu</td>\n",
       "      <td>Spicy Paneer Wrap</td>\n",
       "      <td>250 g</td>\n",
       "      <td>674.68</td>\n",
       "      <td>20.96</td>\n",
       "      <td>39.10</td>\n",
       "      <td>19.73</td>\n",
       "      <td>0.26</td>\n",
       "      <td>40.93</td>\n",
       "      <td>59.27</td>\n",
       "      <td>3.50</td>\n",
       "      <td>1.08</td>\n",
       "      <td>1087.46</td>\n",
       "    </tr>\n",
       "    <tr>\n",
       "      <th>4</th>\n",
       "      <td>Regular Menu</td>\n",
       "      <td>American Veg Burger</td>\n",
       "      <td>177 g</td>\n",
       "      <td>512.17</td>\n",
       "      <td>15.30</td>\n",
       "      <td>23.45</td>\n",
       "      <td>10.51</td>\n",
       "      <td>0.17</td>\n",
       "      <td>25.24</td>\n",
       "      <td>56.96</td>\n",
       "      <td>7.85</td>\n",
       "      <td>4.76</td>\n",
       "      <td>1051.24</td>\n",
       "    </tr>\n",
       "  </tbody>\n",
       "</table>\n",
       "</div>"
      ],
      "text/plain": [
       "  Menu Category              Menu Items Per Serve Size  Energy (kCal)  \\\n",
       "0  Regular Menu        McVeggie™ Burger          168 g         402.05   \n",
       "1  Regular Menu    McAloo Tikki Burger®          146 g         339.52   \n",
       "2  Regular Menu  McSpicy™ Paneer Burger          199 g         652.76   \n",
       "3  Regular Menu       Spicy Paneer Wrap          250 g         674.68   \n",
       "4  Regular Menu     American Veg Burger          177 g         512.17   \n",
       "\n",
       "   Protein (g)  Total fat (g)  Sat Fat (g)  Trans fat (g)  Cholesterols (mg)  \\\n",
       "0        10.24          13.83         5.34           0.16               2.49   \n",
       "1         8.50          11.31         4.27           0.20               1.47   \n",
       "2        20.29          39.45        17.12           0.18              21.85   \n",
       "3        20.96          39.10        19.73           0.26              40.93   \n",
       "4        15.30          23.45        10.51           0.17              25.24   \n",
       "\n",
       "   Total carbohydrate (g)  Total Sugars (g)  Added Sugars (g)  Sodium (mg)  \n",
       "0                   56.54              7.90              4.49       706.13  \n",
       "1                   50.27              7.05              4.07       545.34  \n",
       "2                   52.33              8.35              5.27      1074.58  \n",
       "3                   59.27              3.50              1.08      1087.46  \n",
       "4                   56.96              7.85              4.76      1051.24  "
      ]
     },
     "execution_count": 34,
     "metadata": {},
     "output_type": "execute_result"
    }
   ],
   "source": [
    "df=pd.read_csv('E:\\JUPYTER NOTE BOOK\\Dataset/India_Menu.csv')\n",
    "df.head()"
   ]
  },
  {
   "cell_type": "code",
   "execution_count": 35,
   "metadata": {
    "colab": {
     "base_uri": "https://localhost:8080/"
    },
    "executionInfo": {
     "elapsed": 37,
     "status": "ok",
     "timestamp": 1662960436682,
     "user": {
      "displayName": "brijesh kumar",
      "userId": "13775173205173304916"
     },
     "user_tz": -330
    },
    "id": "TnemMKOxVAiK",
    "outputId": "6971d172-c736-418d-a93a-5589f4ac2426"
   },
   "outputs": [
    {
     "data": {
      "text/plain": [
       "(141, 13)"
      ]
     },
     "execution_count": 35,
     "metadata": {},
     "output_type": "execute_result"
    }
   ],
   "source": [
    "df.shape"
   ]
  },
  {
   "cell_type": "code",
   "execution_count": 36,
   "metadata": {
    "colab": {
     "base_uri": "https://localhost:8080/"
    },
    "executionInfo": {
     "elapsed": 34,
     "status": "ok",
     "timestamp": 1662960436683,
     "user": {
      "displayName": "brijesh kumar",
      "userId": "13775173205173304916"
     },
     "user_tz": -330
    },
    "id": "-6WgVKNpp0_Q",
    "outputId": "fee4af1e-6b9e-47d0-ba8b-4a7fd8315f18"
   },
   "outputs": [
    {
     "name": "stdout",
     "output_type": "stream",
     "text": [
      "<class 'pandas.core.frame.DataFrame'>\n",
      "RangeIndex: 141 entries, 0 to 140\n",
      "Data columns (total 13 columns):\n",
      " #   Column                  Non-Null Count  Dtype  \n",
      "---  ------                  --------------  -----  \n",
      " 0   Menu Category           141 non-null    object \n",
      " 1   Menu Items              141 non-null    object \n",
      " 2   Per Serve Size          141 non-null    object \n",
      " 3   Energy (kCal)           141 non-null    float64\n",
      " 4   Protein (g)             141 non-null    float64\n",
      " 5   Total fat (g)           141 non-null    float64\n",
      " 6   Sat Fat (g)             141 non-null    float64\n",
      " 7   Trans fat (g)           141 non-null    float64\n",
      " 8   Cholesterols (mg)       141 non-null    float64\n",
      " 9   Total carbohydrate (g)  141 non-null    float64\n",
      " 10  Total Sugars (g)        141 non-null    float64\n",
      " 11  Added Sugars (g)        141 non-null    float64\n",
      " 12  Sodium (mg)             140 non-null    float64\n",
      "dtypes: float64(10), object(3)\n",
      "memory usage: 14.4+ KB\n"
     ]
    }
   ],
   "source": [
    "df.info()"
   ]
  },
  {
   "cell_type": "markdown",
   "metadata": {
    "id": "uLBp1ofLIqXz"
   },
   "source": [
    "# Data frame summary"
   ]
  },
  {
   "cell_type": "code",
   "execution_count": 37,
   "metadata": {
    "colab": {
     "base_uri": "https://localhost:8080/",
     "height": 300
    },
    "executionInfo": {
     "elapsed": 32,
     "status": "ok",
     "timestamp": 1662960436683,
     "user": {
      "displayName": "brijesh kumar",
      "userId": "13775173205173304916"
     },
     "user_tz": -330
    },
    "id": "XKlQoypZIp1L",
    "outputId": "3fd42c3f-3916-4093-be60-e905e64dc57e"
   },
   "outputs": [
    {
     "data": {
      "text/html": [
       "<div>\n",
       "<style scoped>\n",
       "    .dataframe tbody tr th:only-of-type {\n",
       "        vertical-align: middle;\n",
       "    }\n",
       "\n",
       "    .dataframe tbody tr th {\n",
       "        vertical-align: top;\n",
       "    }\n",
       "\n",
       "    .dataframe thead th {\n",
       "        text-align: right;\n",
       "    }\n",
       "</style>\n",
       "<table border=\"1\" class=\"dataframe\">\n",
       "  <thead>\n",
       "    <tr style=\"text-align: right;\">\n",
       "      <th></th>\n",
       "      <th>Energy (kCal)</th>\n",
       "      <th>Protein (g)</th>\n",
       "      <th>Total fat (g)</th>\n",
       "      <th>Sat Fat (g)</th>\n",
       "      <th>Trans fat (g)</th>\n",
       "      <th>Cholesterols (mg)</th>\n",
       "      <th>Total carbohydrate (g)</th>\n",
       "      <th>Total Sugars (g)</th>\n",
       "      <th>Added Sugars (g)</th>\n",
       "      <th>Sodium (mg)</th>\n",
       "    </tr>\n",
       "  </thead>\n",
       "  <tbody>\n",
       "    <tr>\n",
       "      <th>count</th>\n",
       "      <td>141.000000</td>\n",
       "      <td>141.000000</td>\n",
       "      <td>141.000000</td>\n",
       "      <td>141.000000</td>\n",
       "      <td>141.000000</td>\n",
       "      <td>141.000000</td>\n",
       "      <td>141.000000</td>\n",
       "      <td>141.000000</td>\n",
       "      <td>141.000000</td>\n",
       "      <td>140.000000</td>\n",
       "    </tr>\n",
       "    <tr>\n",
       "      <th>mean</th>\n",
       "      <td>244.635461</td>\n",
       "      <td>7.493546</td>\n",
       "      <td>9.991702</td>\n",
       "      <td>4.997589</td>\n",
       "      <td>0.687163</td>\n",
       "      <td>26.350071</td>\n",
       "      <td>31.190284</td>\n",
       "      <td>15.464894</td>\n",
       "      <td>10.336950</td>\n",
       "      <td>362.064143</td>\n",
       "    </tr>\n",
       "    <tr>\n",
       "      <th>std</th>\n",
       "      <td>185.554837</td>\n",
       "      <td>8.336863</td>\n",
       "      <td>10.339511</td>\n",
       "      <td>4.900451</td>\n",
       "      <td>6.326136</td>\n",
       "      <td>50.334200</td>\n",
       "      <td>20.602044</td>\n",
       "      <td>15.690202</td>\n",
       "      <td>14.283388</td>\n",
       "      <td>473.160490</td>\n",
       "    </tr>\n",
       "    <tr>\n",
       "      <th>min</th>\n",
       "      <td>0.000000</td>\n",
       "      <td>0.000000</td>\n",
       "      <td>0.000000</td>\n",
       "      <td>0.000000</td>\n",
       "      <td>0.000000</td>\n",
       "      <td>0.000000</td>\n",
       "      <td>0.000000</td>\n",
       "      <td>0.000000</td>\n",
       "      <td>0.000000</td>\n",
       "      <td>0.000000</td>\n",
       "    </tr>\n",
       "    <tr>\n",
       "      <th>25%</th>\n",
       "      <td>116.360000</td>\n",
       "      <td>0.650000</td>\n",
       "      <td>0.460000</td>\n",
       "      <td>0.280000</td>\n",
       "      <td>0.060000</td>\n",
       "      <td>1.510000</td>\n",
       "      <td>15.740000</td>\n",
       "      <td>2.330000</td>\n",
       "      <td>0.000000</td>\n",
       "      <td>43.895000</td>\n",
       "    </tr>\n",
       "    <tr>\n",
       "      <th>50%</th>\n",
       "      <td>219.360000</td>\n",
       "      <td>4.790000</td>\n",
       "      <td>7.770000</td>\n",
       "      <td>4.270000</td>\n",
       "      <td>0.150000</td>\n",
       "      <td>8.390000</td>\n",
       "      <td>30.820000</td>\n",
       "      <td>9.160000</td>\n",
       "      <td>3.640000</td>\n",
       "      <td>152.025000</td>\n",
       "    </tr>\n",
       "    <tr>\n",
       "      <th>75%</th>\n",
       "      <td>339.520000</td>\n",
       "      <td>10.880000</td>\n",
       "      <td>14.160000</td>\n",
       "      <td>7.280000</td>\n",
       "      <td>0.220000</td>\n",
       "      <td>31.110000</td>\n",
       "      <td>46.000000</td>\n",
       "      <td>26.950000</td>\n",
       "      <td>19.230000</td>\n",
       "      <td>534.240000</td>\n",
       "    </tr>\n",
       "    <tr>\n",
       "      <th>max</th>\n",
       "      <td>834.360000</td>\n",
       "      <td>39.470000</td>\n",
       "      <td>45.180000</td>\n",
       "      <td>20.460000</td>\n",
       "      <td>75.260000</td>\n",
       "      <td>302.610000</td>\n",
       "      <td>93.840000</td>\n",
       "      <td>64.220000</td>\n",
       "      <td>64.220000</td>\n",
       "      <td>2399.490000</td>\n",
       "    </tr>\n",
       "  </tbody>\n",
       "</table>\n",
       "</div>"
      ],
      "text/plain": [
       "       Energy (kCal)  Protein (g)  Total fat (g)  Sat Fat (g)  Trans fat (g)  \\\n",
       "count     141.000000   141.000000     141.000000   141.000000     141.000000   \n",
       "mean      244.635461     7.493546       9.991702     4.997589       0.687163   \n",
       "std       185.554837     8.336863      10.339511     4.900451       6.326136   \n",
       "min         0.000000     0.000000       0.000000     0.000000       0.000000   \n",
       "25%       116.360000     0.650000       0.460000     0.280000       0.060000   \n",
       "50%       219.360000     4.790000       7.770000     4.270000       0.150000   \n",
       "75%       339.520000    10.880000      14.160000     7.280000       0.220000   \n",
       "max       834.360000    39.470000      45.180000    20.460000      75.260000   \n",
       "\n",
       "       Cholesterols (mg)  Total carbohydrate (g)  Total Sugars (g)  \\\n",
       "count         141.000000              141.000000        141.000000   \n",
       "mean           26.350071               31.190284         15.464894   \n",
       "std            50.334200               20.602044         15.690202   \n",
       "min             0.000000                0.000000          0.000000   \n",
       "25%             1.510000               15.740000          2.330000   \n",
       "50%             8.390000               30.820000          9.160000   \n",
       "75%            31.110000               46.000000         26.950000   \n",
       "max           302.610000               93.840000         64.220000   \n",
       "\n",
       "       Added Sugars (g)  Sodium (mg)  \n",
       "count        141.000000   140.000000  \n",
       "mean          10.336950   362.064143  \n",
       "std           14.283388   473.160490  \n",
       "min            0.000000     0.000000  \n",
       "25%            0.000000    43.895000  \n",
       "50%            3.640000   152.025000  \n",
       "75%           19.230000   534.240000  \n",
       "max           64.220000  2399.490000  "
      ]
     },
     "execution_count": 37,
     "metadata": {},
     "output_type": "execute_result"
    }
   ],
   "source": [
    "df.describe()"
   ]
  },
  {
   "cell_type": "code",
   "execution_count": 38,
   "metadata": {
    "colab": {
     "base_uri": "https://localhost:8080/"
    },
    "executionInfo": {
     "elapsed": 33,
     "status": "ok",
     "timestamp": 1662960436683,
     "user": {
      "displayName": "brijesh kumar",
      "userId": "13775173205173304916"
     },
     "user_tz": -330
    },
    "id": "PjbzBxA0JwgT",
    "outputId": "15e914cd-481c-46ba-ed66-56f0745edeb6"
   },
   "outputs": [
    {
     "data": {
      "text/plain": [
       "Index(['Menu Category', 'Menu Items', 'Per Serve Size', 'Energy (kCal)',\n",
       "       'Protein (g)', 'Total fat (g)', 'Sat Fat (g)', 'Trans fat (g)',\n",
       "       'Cholesterols (mg)', 'Total carbohydrate (g)', 'Total Sugars (g)',\n",
       "       'Added Sugars (g)', 'Sodium (mg)'],\n",
       "      dtype='object')"
      ]
     },
     "execution_count": 38,
     "metadata": {},
     "output_type": "execute_result"
    }
   ],
   "source": [
    "df.columns"
   ]
  },
  {
   "cell_type": "code",
   "execution_count": 39,
   "metadata": {
    "colab": {
     "base_uri": "https://localhost:8080/"
    },
    "executionInfo": {
     "elapsed": 31,
     "status": "ok",
     "timestamp": 1662960436684,
     "user": {
      "displayName": "brijesh kumar",
      "userId": "13775173205173304916"
     },
     "user_tz": -330
    },
    "id": "fk0UG-5vRL-i",
    "outputId": "5053c2de-43a2-49fe-cb53-f320e8857d30"
   },
   "outputs": [
    {
     "data": {
      "text/plain": [
       "Menu Category             0\n",
       "Menu Items                0\n",
       "Per Serve Size            0\n",
       "Energy (kCal)             0\n",
       "Protein (g)               0\n",
       "Total fat (g)             0\n",
       "Sat Fat (g)               0\n",
       "Trans fat (g)             0\n",
       "Cholesterols (mg)         0\n",
       "Total carbohydrate (g)    0\n",
       "Total Sugars (g)          0\n",
       "Added Sugars (g)          0\n",
       "Sodium (mg)               1\n",
       "dtype: int64"
      ]
     },
     "execution_count": 39,
     "metadata": {},
     "output_type": "execute_result"
    }
   ],
   "source": [
    "df.isnull().sum()"
   ]
  },
  {
   "cell_type": "code",
   "execution_count": 40,
   "metadata": {
    "colab": {
     "base_uri": "https://localhost:8080/",
     "height": 159
    },
    "executionInfo": {
     "elapsed": 30,
     "status": "ok",
     "timestamp": 1662960436685,
     "user": {
      "displayName": "brijesh kumar",
      "userId": "13775173205173304916"
     },
     "user_tz": -330
    },
    "id": "1TjxRR-HWUN8",
    "outputId": "b44eb92e-716e-4881-8a70-b5280196a854"
   },
   "outputs": [
    {
     "data": {
      "text/html": [
       "<div>\n",
       "<style scoped>\n",
       "    .dataframe tbody tr th:only-of-type {\n",
       "        vertical-align: middle;\n",
       "    }\n",
       "\n",
       "    .dataframe tbody tr th {\n",
       "        vertical-align: top;\n",
       "    }\n",
       "\n",
       "    .dataframe thead th {\n",
       "        text-align: right;\n",
       "    }\n",
       "</style>\n",
       "<table border=\"1\" class=\"dataframe\">\n",
       "  <thead>\n",
       "    <tr style=\"text-align: right;\">\n",
       "      <th></th>\n",
       "      <th>Menu Category</th>\n",
       "      <th>Menu Items</th>\n",
       "      <th>Per Serve Size</th>\n",
       "      <th>Energy (kCal)</th>\n",
       "      <th>Protein (g)</th>\n",
       "      <th>Total fat (g)</th>\n",
       "      <th>Sat Fat (g)</th>\n",
       "      <th>Trans fat (g)</th>\n",
       "      <th>Cholesterols (mg)</th>\n",
       "      <th>Total carbohydrate (g)</th>\n",
       "      <th>Total Sugars (g)</th>\n",
       "      <th>Added Sugars (g)</th>\n",
       "      <th>Sodium (mg)</th>\n",
       "    </tr>\n",
       "  </thead>\n",
       "  <tbody>\n",
       "    <tr>\n",
       "      <th>111</th>\n",
       "      <td>Gourmet Menu</td>\n",
       "      <td>Piri piri Mc Spicy Chicken Burger</td>\n",
       "      <td>228 g</td>\n",
       "      <td>443.4</td>\n",
       "      <td>25.63</td>\n",
       "      <td>17.3</td>\n",
       "      <td>4.01</td>\n",
       "      <td>0.19</td>\n",
       "      <td>64.19</td>\n",
       "      <td>43.29</td>\n",
       "      <td>9.29</td>\n",
       "      <td>6.32</td>\n",
       "      <td>NaN</td>\n",
       "    </tr>\n",
       "  </tbody>\n",
       "</table>\n",
       "</div>"
      ],
      "text/plain": [
       "    Menu Category                         Menu Items Per Serve Size  \\\n",
       "111  Gourmet Menu  Piri piri Mc Spicy Chicken Burger          228 g   \n",
       "\n",
       "     Energy (kCal)  Protein (g)  Total fat (g)  Sat Fat (g)  Trans fat (g)  \\\n",
       "111          443.4        25.63           17.3         4.01           0.19   \n",
       "\n",
       "     Cholesterols (mg)  Total carbohydrate (g)  Total Sugars (g)  \\\n",
       "111              64.19                   43.29              9.29   \n",
       "\n",
       "     Added Sugars (g)  Sodium (mg)  \n",
       "111              6.32          NaN  "
      ]
     },
     "execution_count": 40,
     "metadata": {},
     "output_type": "execute_result"
    }
   ],
   "source": [
    "df[df['Sodium (mg)'].isnull()]"
   ]
  },
  {
   "cell_type": "code",
   "execution_count": 41,
   "metadata": {
    "colab": {
     "base_uri": "https://localhost:8080/"
    },
    "executionInfo": {
     "elapsed": 29,
     "status": "ok",
     "timestamp": 1662960436685,
     "user": {
      "displayName": "brijesh kumar",
      "userId": "13775173205173304916"
     },
     "user_tz": -330
    },
    "id": "CiaNIln8Xmuz",
    "outputId": "7aab9fa0-783a-4385-fdf3-d5f0f0e6b398"
   },
   "outputs": [
    {
     "data": {
      "text/plain": [
       "152.025"
      ]
     },
     "execution_count": 41,
     "metadata": {},
     "output_type": "execute_result"
    }
   ],
   "source": [
    "df['Sodium (mg)'].median()"
   ]
  },
  {
   "cell_type": "code",
   "execution_count": 42,
   "metadata": {
    "colab": {
     "base_uri": "https://localhost:8080/"
    },
    "executionInfo": {
     "elapsed": 29,
     "status": "ok",
     "timestamp": 1662960436686,
     "user": {
      "displayName": "brijesh kumar",
      "userId": "13775173205173304916"
     },
     "user_tz": -330
    },
    "id": "8zQdssnpWxyD",
    "outputId": "a34f26cd-72a7-4c15-c31d-626fe519d614"
   },
   "outputs": [
    {
     "name": "stdout",
     "output_type": "stream",
     "text": [
      "<class 'pandas.core.frame.DataFrame'>\n",
      "RangeIndex: 141 entries, 0 to 140\n",
      "Data columns (total 13 columns):\n",
      " #   Column                  Non-Null Count  Dtype  \n",
      "---  ------                  --------------  -----  \n",
      " 0   Menu Category           141 non-null    object \n",
      " 1   Menu Items              141 non-null    object \n",
      " 2   Per Serve Size          141 non-null    object \n",
      " 3   Energy (kCal)           141 non-null    float64\n",
      " 4   Protein (g)             141 non-null    float64\n",
      " 5   Total fat (g)           141 non-null    float64\n",
      " 6   Sat Fat (g)             141 non-null    float64\n",
      " 7   Trans fat (g)           141 non-null    float64\n",
      " 8   Cholesterols (mg)       141 non-null    float64\n",
      " 9   Total carbohydrate (g)  141 non-null    float64\n",
      " 10  Total Sugars (g)        141 non-null    float64\n",
      " 11  Added Sugars (g)        141 non-null    float64\n",
      " 12  Sodium (mg)             141 non-null    float64\n",
      "dtypes: float64(10), object(3)\n",
      "memory usage: 14.4+ KB\n"
     ]
    }
   ],
   "source": [
    "df['Sodium (mg)'].replace(to_replace=np.nan,value=df['Sodium (mg)'].median(),inplace=True)\n",
    "df.info()"
   ]
  },
  {
   "cell_type": "code",
   "execution_count": 43,
   "metadata": {
    "colab": {
     "base_uri": "https://localhost:8080/",
     "height": 354
    },
    "executionInfo": {
     "elapsed": 27,
     "status": "ok",
     "timestamp": 1662960436686,
     "user": {
      "displayName": "brijesh kumar",
      "userId": "13775173205173304916"
     },
     "user_tz": -330
    },
    "id": "i9_nTklyR-HT",
    "outputId": "0fb4044e-2dc8-445b-9a22-1af47428133d"
   },
   "outputs": [
    {
     "data": {
      "text/html": [
       "<div>\n",
       "<style scoped>\n",
       "    .dataframe tbody tr th:only-of-type {\n",
       "        vertical-align: middle;\n",
       "    }\n",
       "\n",
       "    .dataframe tbody tr th {\n",
       "        vertical-align: top;\n",
       "    }\n",
       "\n",
       "    .dataframe thead th {\n",
       "        text-align: right;\n",
       "    }\n",
       "</style>\n",
       "<table border=\"1\" class=\"dataframe\">\n",
       "  <thead>\n",
       "    <tr style=\"text-align: right;\">\n",
       "      <th></th>\n",
       "      <th>Menu Category</th>\n",
       "      <th>Menu Items</th>\n",
       "      <th>Per Serve Size</th>\n",
       "      <th>Energy (kCal)</th>\n",
       "      <th>Protein (g)</th>\n",
       "      <th>Total fat (g)</th>\n",
       "      <th>Sat Fat (g)</th>\n",
       "      <th>Trans fat (g)</th>\n",
       "      <th>Cholesterols (mg)</th>\n",
       "      <th>Total carbohydrate (g)</th>\n",
       "      <th>Total Sugars (g)</th>\n",
       "      <th>Added Sugars (g)</th>\n",
       "      <th>Sodium (mg)</th>\n",
       "    </tr>\n",
       "  </thead>\n",
       "  <tbody>\n",
       "    <tr>\n",
       "      <th>0</th>\n",
       "      <td>Regular Menu</td>\n",
       "      <td>McVeggie™ Burger</td>\n",
       "      <td>168 g</td>\n",
       "      <td>402.05</td>\n",
       "      <td>10.24</td>\n",
       "      <td>13.83</td>\n",
       "      <td>5.34</td>\n",
       "      <td>0.16</td>\n",
       "      <td>2.49</td>\n",
       "      <td>56.54</td>\n",
       "      <td>7.90</td>\n",
       "      <td>4.49</td>\n",
       "      <td>706.13</td>\n",
       "    </tr>\n",
       "    <tr>\n",
       "      <th>1</th>\n",
       "      <td>Regular Menu</td>\n",
       "      <td>McAloo Tikki Burger®</td>\n",
       "      <td>146 g</td>\n",
       "      <td>339.52</td>\n",
       "      <td>8.50</td>\n",
       "      <td>11.31</td>\n",
       "      <td>4.27</td>\n",
       "      <td>0.20</td>\n",
       "      <td>1.47</td>\n",
       "      <td>50.27</td>\n",
       "      <td>7.05</td>\n",
       "      <td>4.07</td>\n",
       "      <td>545.34</td>\n",
       "    </tr>\n",
       "    <tr>\n",
       "      <th>2</th>\n",
       "      <td>Regular Menu</td>\n",
       "      <td>McSpicy™ Paneer Burger</td>\n",
       "      <td>199 g</td>\n",
       "      <td>652.76</td>\n",
       "      <td>20.29</td>\n",
       "      <td>39.45</td>\n",
       "      <td>17.12</td>\n",
       "      <td>0.18</td>\n",
       "      <td>21.85</td>\n",
       "      <td>52.33</td>\n",
       "      <td>8.35</td>\n",
       "      <td>5.27</td>\n",
       "      <td>1074.58</td>\n",
       "    </tr>\n",
       "    <tr>\n",
       "      <th>3</th>\n",
       "      <td>Regular Menu</td>\n",
       "      <td>Spicy Paneer Wrap</td>\n",
       "      <td>250 g</td>\n",
       "      <td>674.68</td>\n",
       "      <td>20.96</td>\n",
       "      <td>39.10</td>\n",
       "      <td>19.73</td>\n",
       "      <td>0.26</td>\n",
       "      <td>40.93</td>\n",
       "      <td>59.27</td>\n",
       "      <td>3.50</td>\n",
       "      <td>1.08</td>\n",
       "      <td>1087.46</td>\n",
       "    </tr>\n",
       "    <tr>\n",
       "      <th>4</th>\n",
       "      <td>Regular Menu</td>\n",
       "      <td>American Veg Burger</td>\n",
       "      <td>177 g</td>\n",
       "      <td>512.17</td>\n",
       "      <td>15.30</td>\n",
       "      <td>23.45</td>\n",
       "      <td>10.51</td>\n",
       "      <td>0.17</td>\n",
       "      <td>25.24</td>\n",
       "      <td>56.96</td>\n",
       "      <td>7.85</td>\n",
       "      <td>4.76</td>\n",
       "      <td>1051.24</td>\n",
       "    </tr>\n",
       "  </tbody>\n",
       "</table>\n",
       "</div>"
      ],
      "text/plain": [
       "  Menu Category              Menu Items Per Serve Size  Energy (kCal)  \\\n",
       "0  Regular Menu        McVeggie™ Burger          168 g         402.05   \n",
       "1  Regular Menu    McAloo Tikki Burger®          146 g         339.52   \n",
       "2  Regular Menu  McSpicy™ Paneer Burger          199 g         652.76   \n",
       "3  Regular Menu       Spicy Paneer Wrap          250 g         674.68   \n",
       "4  Regular Menu     American Veg Burger          177 g         512.17   \n",
       "\n",
       "   Protein (g)  Total fat (g)  Sat Fat (g)  Trans fat (g)  Cholesterols (mg)  \\\n",
       "0        10.24          13.83         5.34           0.16               2.49   \n",
       "1         8.50          11.31         4.27           0.20               1.47   \n",
       "2        20.29          39.45        17.12           0.18              21.85   \n",
       "3        20.96          39.10        19.73           0.26              40.93   \n",
       "4        15.30          23.45        10.51           0.17              25.24   \n",
       "\n",
       "   Total carbohydrate (g)  Total Sugars (g)  Added Sugars (g)  Sodium (mg)  \n",
       "0                   56.54              7.90              4.49       706.13  \n",
       "1                   50.27              7.05              4.07       545.34  \n",
       "2                   52.33              8.35              5.27      1074.58  \n",
       "3                   59.27              3.50              1.08      1087.46  \n",
       "4                   56.96              7.85              4.76      1051.24  "
      ]
     },
     "execution_count": 43,
     "metadata": {},
     "output_type": "execute_result"
    }
   ],
   "source": [
    "df.head()"
   ]
  },
  {
   "cell_type": "markdown",
   "metadata": {
    "id": "EYD5UjjicivC"
   },
   "source": [
    "**Top Energy(cal) items**"
   ]
  },
  {
   "cell_type": "code",
   "execution_count": 44,
   "metadata": {
    "colab": {
     "base_uri": "https://localhost:8080/",
     "height": 363
    },
    "executionInfo": {
     "elapsed": 26,
     "status": "ok",
     "timestamp": 1662960436686,
     "user": {
      "displayName": "brijesh kumar",
      "userId": "13775173205173304916"
     },
     "user_tz": -330
    },
    "id": "R2dEc62sbq_l",
    "outputId": "1e878c1a-54a5-42b7-b215-dc0b9c684b4a"
   },
   "outputs": [
    {
     "data": {
      "text/html": [
       "<div>\n",
       "<style scoped>\n",
       "    .dataframe tbody tr th:only-of-type {\n",
       "        vertical-align: middle;\n",
       "    }\n",
       "\n",
       "    .dataframe tbody tr th {\n",
       "        vertical-align: top;\n",
       "    }\n",
       "\n",
       "    .dataframe thead th {\n",
       "        text-align: right;\n",
       "    }\n",
       "</style>\n",
       "<table border=\"1\" class=\"dataframe\">\n",
       "  <thead>\n",
       "    <tr style=\"text-align: right;\">\n",
       "      <th></th>\n",
       "      <th>Menu Items</th>\n",
       "      <th>Energy (kCal)</th>\n",
       "    </tr>\n",
       "  </thead>\n",
       "  <tbody>\n",
       "    <tr>\n",
       "      <th>107</th>\n",
       "      <td>Chicken Cheese Lava Burger</td>\n",
       "      <td>834.36</td>\n",
       "    </tr>\n",
       "    <tr>\n",
       "      <th>5</th>\n",
       "      <td>Veg Maharaja Mac</td>\n",
       "      <td>832.67</td>\n",
       "    </tr>\n",
       "    <tr>\n",
       "      <th>18</th>\n",
       "      <td>Ghee Rice with Mc Spicy Fried Chicken 1 pc</td>\n",
       "      <td>720.30</td>\n",
       "    </tr>\n",
       "    <tr>\n",
       "      <th>12</th>\n",
       "      <td>Chicken Maharaja Mac</td>\n",
       "      <td>689.12</td>\n",
       "    </tr>\n",
       "    <tr>\n",
       "      <th>3</th>\n",
       "      <td>Spicy Paneer Wrap</td>\n",
       "      <td>674.68</td>\n",
       "    </tr>\n",
       "    <tr>\n",
       "      <th>106</th>\n",
       "      <td>Cheese Lava Burger</td>\n",
       "      <td>671.06</td>\n",
       "    </tr>\n",
       "    <tr>\n",
       "      <th>2</th>\n",
       "      <td>McSpicy™ Paneer Burger</td>\n",
       "      <td>652.76</td>\n",
       "    </tr>\n",
       "    <tr>\n",
       "      <th>108</th>\n",
       "      <td>Chunky Chipotle American Burger Chicken</td>\n",
       "      <td>641.36</td>\n",
       "    </tr>\n",
       "    <tr>\n",
       "      <th>110</th>\n",
       "      <td>McSpicy Premium Veg Burger</td>\n",
       "      <td>634.71</td>\n",
       "    </tr>\n",
       "    <tr>\n",
       "      <th>109</th>\n",
       "      <td>McSpicy Premium Chicken Burger</td>\n",
       "      <td>622.25</td>\n",
       "    </tr>\n",
       "  </tbody>\n",
       "</table>\n",
       "</div>"
      ],
      "text/plain": [
       "                                     Menu Items  Energy (kCal)\n",
       "107                  Chicken Cheese Lava Burger         834.36\n",
       "5                              Veg Maharaja Mac         832.67\n",
       "18   Ghee Rice with Mc Spicy Fried Chicken 1 pc         720.30\n",
       "12                         Chicken Maharaja Mac         689.12\n",
       "3                             Spicy Paneer Wrap         674.68\n",
       "106                          Cheese Lava Burger         671.06\n",
       "2                        McSpicy™ Paneer Burger         652.76\n",
       "108     Chunky Chipotle American Burger Chicken         641.36\n",
       "110                  McSpicy Premium Veg Burger         634.71\n",
       "109              McSpicy Premium Chicken Burger         622.25"
      ]
     },
     "execution_count": 44,
     "metadata": {},
     "output_type": "execute_result"
    }
   ],
   "source": [
    "max_energy_df=df.sort_values('Energy (kCal)',ascending=False)\n",
    "max_energy_df[['Menu Items','Energy (kCal)']][:10]"
   ]
  },
  {
   "cell_type": "markdown",
   "metadata": {
    "id": "bg7IUrxVTBlk"
   },
   "source": [
    "**Note:**Chicken Cheese Lava Burger has high Energy(kCal) is 834.36 KCal"
   ]
  },
  {
   "cell_type": "markdown",
   "metadata": {
    "id": "og7hVKUVSogr"
   },
   "source": [
    "**Low Energy(cal) items**"
   ]
  },
  {
   "cell_type": "code",
   "execution_count": 45,
   "metadata": {
    "colab": {
     "base_uri": "https://localhost:8080/",
     "height": 363
    },
    "executionInfo": {
     "elapsed": 27,
     "status": "ok",
     "timestamp": 1662960436687,
     "user": {
      "displayName": "brijesh kumar",
      "userId": "13775173205173304916"
     },
     "user_tz": -330
    },
    "id": "KnKSbKZrS4GT",
    "outputId": "e8129a0f-3e47-4a0f-f139-ba5ba192fb13"
   },
   "outputs": [
    {
     "data": {
      "text/html": [
       "<div>\n",
       "<style scoped>\n",
       "    .dataframe tbody tr th:only-of-type {\n",
       "        vertical-align: middle;\n",
       "    }\n",
       "\n",
       "    .dataframe tbody tr th {\n",
       "        vertical-align: top;\n",
       "    }\n",
       "\n",
       "    .dataframe thead th {\n",
       "        text-align: right;\n",
       "    }\n",
       "</style>\n",
       "<table border=\"1\" class=\"dataframe\">\n",
       "  <thead>\n",
       "    <tr style=\"text-align: right;\">\n",
       "      <th></th>\n",
       "      <th>Menu Items</th>\n",
       "      <th>Energy (kCal)</th>\n",
       "    </tr>\n",
       "  </thead>\n",
       "  <tbody>\n",
       "    <tr>\n",
       "      <th>131</th>\n",
       "      <td>Vedica Natural Mineral Water</td>\n",
       "      <td>0.00</td>\n",
       "    </tr>\n",
       "    <tr>\n",
       "      <th>130</th>\n",
       "      <td>Coke Zero Can</td>\n",
       "      <td>0.99</td>\n",
       "    </tr>\n",
       "    <tr>\n",
       "      <th>70</th>\n",
       "      <td>Moroccon Mint Green Tea (S)</td>\n",
       "      <td>6.25</td>\n",
       "    </tr>\n",
       "    <tr>\n",
       "      <th>32</th>\n",
       "      <td>L1 Coffee</td>\n",
       "      <td>6.80</td>\n",
       "    </tr>\n",
       "    <tr>\n",
       "      <th>73</th>\n",
       "      <td>Strawberry Green Tea (S)</td>\n",
       "      <td>7.03</td>\n",
       "    </tr>\n",
       "    <tr>\n",
       "      <th>71</th>\n",
       "      <td>Moroccon Mint Green Tea (R)</td>\n",
       "      <td>7.39</td>\n",
       "    </tr>\n",
       "    <tr>\n",
       "      <th>134</th>\n",
       "      <td>Chilli Sauce</td>\n",
       "      <td>8.07</td>\n",
       "    </tr>\n",
       "    <tr>\n",
       "      <th>74</th>\n",
       "      <td>Strawberry Green Tea (R)</td>\n",
       "      <td>8.32</td>\n",
       "    </tr>\n",
       "    <tr>\n",
       "      <th>67</th>\n",
       "      <td>English Breakfast (S)</td>\n",
       "      <td>9.93</td>\n",
       "    </tr>\n",
       "    <tr>\n",
       "      <th>72</th>\n",
       "      <td>Moroccon Mint Green Tea (L)</td>\n",
       "      <td>10.21</td>\n",
       "    </tr>\n",
       "  </tbody>\n",
       "</table>\n",
       "</div>"
      ],
      "text/plain": [
       "                       Menu Items  Energy (kCal)\n",
       "131  Vedica Natural Mineral Water           0.00\n",
       "130                 Coke Zero Can           0.99\n",
       "70    Moroccon Mint Green Tea (S)           6.25\n",
       "32                      L1 Coffee           6.80\n",
       "73       Strawberry Green Tea (S)           7.03\n",
       "71    Moroccon Mint Green Tea (R)           7.39\n",
       "134                  Chilli Sauce           8.07\n",
       "74       Strawberry Green Tea (R)           8.32\n",
       "67          English Breakfast (S)           9.93\n",
       "72    Moroccon Mint Green Tea (L)          10.21"
      ]
     },
     "execution_count": 45,
     "metadata": {},
     "output_type": "execute_result"
    }
   ],
   "source": [
    "low_energy_df=df.sort_values('Energy (kCal)',ascending=True)\n",
    "low_energy_df[['Menu Items','Energy (kCal)']][:10]"
   ]
  },
  {
   "cell_type": "markdown",
   "metadata": {
    "id": "msyqU0FsSPPT"
   },
   "source": [
    "**Note:**Vedica Natural Mineral Water has low Energy(kCal) is 0.0 KCal"
   ]
  },
  {
   "cell_type": "code",
   "execution_count": 46,
   "metadata": {
    "colab": {
     "base_uri": "https://localhost:8080/"
    },
    "executionInfo": {
     "elapsed": 26,
     "status": "ok",
     "timestamp": 1662960436687,
     "user": {
      "displayName": "brijesh kumar",
      "userId": "13775173205173304916"
     },
     "user_tz": -330
    },
    "id": "6eTNXvgfd2yq",
    "outputId": "45b6fcda-e8f4-421a-d756-3713f983d9d1"
   },
   "outputs": [
    {
     "data": {
      "text/plain": [
       "McCafe Menu        51\n",
       "Regular Menu       36\n",
       "Beverages Menu     17\n",
       "Breakfast Menu     15\n",
       "Gourmet Menu       11\n",
       "Condiments Menu     9\n",
       "Desserts Menu       2\n",
       "Name: Menu Category, dtype: int64"
      ]
     },
     "execution_count": 46,
     "metadata": {},
     "output_type": "execute_result"
    }
   ],
   "source": [
    "df['Menu Category'].value_counts()"
   ]
  },
  {
   "cell_type": "markdown",
   "metadata": {
    "id": "P4SNpM4GgQhL"
   },
   "source": [
    "**Items in Breakfat Menu**"
   ]
  },
  {
   "cell_type": "code",
   "execution_count": 47,
   "metadata": {
    "colab": {
     "base_uri": "https://localhost:8080/"
    },
    "executionInfo": {
     "elapsed": 25,
     "status": "ok",
     "timestamp": 1662960436687,
     "user": {
      "displayName": "brijesh kumar",
      "userId": "13775173205173304916"
     },
     "user_tz": -330
    },
    "id": "Hwj0vfg8e28R",
    "outputId": "2b43eac3-1a3d-475d-ac62-7c6681684a1e"
   },
   "outputs": [
    {
     "data": {
      "text/plain": [
       "36                  Veg McMuffin\n",
       "37        Double Cheese McMuffin\n",
       "38            Spicy Egg McMuffin\n",
       "39             Sausage Mc Muffin\n",
       "40    Sausage Mc Muffin with egg\n",
       "41                  Egg McMuffin\n",
       "42     Hot Cake with maple syrup\n",
       "43                    Hash Brown\n",
       "44                      Espresso\n",
       "45             Espresso Machiato\n",
       "46                 Americano (S)\n",
       "47                 Americano (R)\n",
       "48                 Americano (L)\n",
       "49                Cappuccino (S)\n",
       "50                Cappuccino (R)\n",
       "Name: Menu Items, dtype: object"
      ]
     },
     "execution_count": 47,
     "metadata": {},
     "output_type": "execute_result"
    }
   ],
   "source": [
    "df[df['Menu Category']=='Breakfast Menu']['Menu Items']\n"
   ]
  },
  {
   "cell_type": "markdown",
   "metadata": {
    "id": "7g7Hwg-JBTeH"
   },
   "source": [
    "**the highest calories in the Regular menu**"
   ]
  },
  {
   "cell_type": "code",
   "execution_count": 48,
   "metadata": {
    "colab": {
     "base_uri": "https://localhost:8080/",
     "height": 237
    },
    "executionInfo": {
     "elapsed": 25,
     "status": "ok",
     "timestamp": 1662960436688,
     "user": {
      "displayName": "brijesh kumar",
      "userId": "13775173205173304916"
     },
     "user_tz": -330
    },
    "id": "RaZSHkBGBSdg",
    "outputId": "ee151673-063e-4d8e-954a-a501a2dc52c4"
   },
   "outputs": [
    {
     "data": {
      "text/html": [
       "<div>\n",
       "<style scoped>\n",
       "    .dataframe tbody tr th:only-of-type {\n",
       "        vertical-align: middle;\n",
       "    }\n",
       "\n",
       "    .dataframe tbody tr th {\n",
       "        vertical-align: top;\n",
       "    }\n",
       "\n",
       "    .dataframe thead th {\n",
       "        text-align: right;\n",
       "    }\n",
       "</style>\n",
       "<table border=\"1\" class=\"dataframe\">\n",
       "  <thead>\n",
       "    <tr style=\"text-align: right;\">\n",
       "      <th></th>\n",
       "      <th>Energy (kCal)</th>\n",
       "    </tr>\n",
       "    <tr>\n",
       "      <th>Menu Items</th>\n",
       "      <th></th>\n",
       "    </tr>\n",
       "  </thead>\n",
       "  <tbody>\n",
       "    <tr>\n",
       "      <th>Veg Maharaja Mac</th>\n",
       "      <td>832.67</td>\n",
       "    </tr>\n",
       "    <tr>\n",
       "      <th>Ghee Rice with Mc Spicy Fried Chicken 1 pc</th>\n",
       "      <td>720.30</td>\n",
       "    </tr>\n",
       "    <tr>\n",
       "      <th>Chicken Maharaja Mac</th>\n",
       "      <td>689.12</td>\n",
       "    </tr>\n",
       "    <tr>\n",
       "      <th>Spicy Paneer Wrap</th>\n",
       "      <td>674.68</td>\n",
       "    </tr>\n",
       "    <tr>\n",
       "      <th>McSpicy™ Paneer Burger</th>\n",
       "      <td>652.76</td>\n",
       "    </tr>\n",
       "  </tbody>\n",
       "</table>\n",
       "</div>"
      ],
      "text/plain": [
       "                                            Energy (kCal)\n",
       "Menu Items                                               \n",
       "Veg Maharaja Mac                                   832.67\n",
       "Ghee Rice with Mc Spicy Fried Chicken 1 pc         720.30\n",
       "Chicken Maharaja Mac                               689.12\n",
       "Spicy Paneer Wrap                                  674.68\n",
       "McSpicy™ Paneer Burger                             652.76"
      ]
     },
     "execution_count": 48,
     "metadata": {},
     "output_type": "execute_result"
    }
   ],
   "source": [
    "max_cal_df=df[df['Menu Category']=='Regular Menu'].groupby('Menu Items')['Energy (kCal)'].max().reset_index()\n",
    "max_cal_df.sort_values('Energy (kCal)',ascending=False,inplace=True)\n",
    "max_cal_df=max_cal_df.iloc[:5].set_index('Menu Items')\n",
    "max_cal_df"
   ]
  },
  {
   "cell_type": "code",
   "execution_count": 49,
   "metadata": {
    "colab": {
     "base_uri": "https://localhost:8080/",
     "height": 295
    },
    "executionInfo": {
     "elapsed": 982,
     "status": "ok",
     "timestamp": 1662960437646,
     "user": {
      "displayName": "brijesh kumar",
      "userId": "13775173205173304916"
     },
     "user_tz": -330
    },
    "id": "RNegV0qF3ItO",
    "outputId": "4df393b6-b6c7-4896-b625-7fb488111612"
   },
   "outputs": [
    {
     "data": {
      "image/png": "[encoded data removed]",
      "text/plain": [
       "<Figure size 432x288 with 1 Axes>"
      ]
     },
     "metadata": {
      "needs_background": "light"
     },
     "output_type": "display_data"
    }
   ],
   "source": [
    "max_cal_df.plot(kind='barh')\n",
    "plt.title('Highest calories in the Regular menu')\n",
    "plt.xlabel('Energy (kCal)')\n",
    "plt.ylabel('Menu Items')\n",
    "plt.show()"
   ]
  },
  {
   "cell_type": "markdown",
   "metadata": {
    "id": "8WFrF8nNTgwq"
   },
   "source": [
    "**Note:**Veg Maharaja Mac has high Energy(kCal) is 832.67 KCal in the Regular menu"
   ]
  },
  {
   "cell_type": "markdown",
   "metadata": {
    "id": "nABlMOhzFNKM"
   },
   "source": [
    "**lowest calories in the Regular menu** "
   ]
  },
  {
   "cell_type": "code",
   "execution_count": 50,
   "metadata": {
    "colab": {
     "base_uri": "https://localhost:8080/",
     "height": 237
    },
    "executionInfo": {
     "elapsed": 15,
     "status": "ok",
     "timestamp": 1662960437647,
     "user": {
      "displayName": "brijesh kumar",
      "userId": "13775173205173304916"
     },
     "user_tz": -330
    },
    "id": "1d74K8WWFTXl",
    "outputId": "b0849e72-224c-42b7-d56a-2f9c85df5261"
   },
   "outputs": [
    {
     "data": {
      "text/html": [
       "<div>\n",
       "<style scoped>\n",
       "    .dataframe tbody tr th:only-of-type {\n",
       "        vertical-align: middle;\n",
       "    }\n",
       "\n",
       "    .dataframe tbody tr th {\n",
       "        vertical-align: top;\n",
       "    }\n",
       "\n",
       "    .dataframe thead th {\n",
       "        text-align: right;\n",
       "    }\n",
       "</style>\n",
       "<table border=\"1\" class=\"dataframe\">\n",
       "  <thead>\n",
       "    <tr style=\"text-align: right;\">\n",
       "      <th></th>\n",
       "      <th>Energy (kCal)</th>\n",
       "    </tr>\n",
       "    <tr>\n",
       "      <th>Menu Items</th>\n",
       "      <th></th>\n",
       "    </tr>\n",
       "  </thead>\n",
       "  <tbody>\n",
       "    <tr>\n",
       "      <th>L1 Coffee</th>\n",
       "      <td>6.80</td>\n",
       "    </tr>\n",
       "    <tr>\n",
       "      <th>L1 Coffee with milk</th>\n",
       "      <td>35.80</td>\n",
       "    </tr>\n",
       "    <tr>\n",
       "      <th>2 piece Chicken Strips</th>\n",
       "      <td>164.44</td>\n",
       "    </tr>\n",
       "    <tr>\n",
       "      <th>4 piece Chicken McNuggets</th>\n",
       "      <td>169.68</td>\n",
       "    </tr>\n",
       "    <tr>\n",
       "      <th>Regular Wedges</th>\n",
       "      <td>204.65</td>\n",
       "    </tr>\n",
       "  </tbody>\n",
       "</table>\n",
       "</div>"
      ],
      "text/plain": [
       "                           Energy (kCal)\n",
       "Menu Items                              \n",
       "L1 Coffee                           6.80\n",
       "L1 Coffee with milk                35.80\n",
       "2 piece Chicken Strips            164.44\n",
       "4 piece Chicken McNuggets         169.68\n",
       "Regular Wedges                    204.65"
      ]
     },
     "execution_count": 50,
     "metadata": {},
     "output_type": "execute_result"
    }
   ],
   "source": [
    "low_cal_df=df[df['Menu Category']=='Regular Menu'].groupby('Menu Items')['Energy (kCal)'].min().reset_index()\n",
    "low_cal_df.sort_values('Energy (kCal)',ascending=True,inplace=True)\n",
    "low_cal_df=low_cal_df.head(10)\n",
    "low_cal_df.set_index('Menu Items',inplace=True)\n",
    "low_cal_df.head()"
   ]
  },
  {
   "cell_type": "code",
   "execution_count": 51,
   "metadata": {
    "colab": {
     "base_uri": "https://localhost:8080/",
     "height": 295
    },
    "executionInfo": {
     "elapsed": 14,
     "status": "ok",
     "timestamp": 1662960437647,
     "user": {
      "displayName": "brijesh kumar",
      "userId": "13775173205173304916"
     },
     "user_tz": -330
    },
    "id": "DrfkpFvc48JJ",
    "outputId": "ae1ef4f1-4976-48f2-8ac2-4f0e418e476c"
   },
   "outputs": [
    {
     "data": {
      "image/png": "[encoded data removed]",
      "text/plain": [
       "<Figure size 432x288 with 1 Axes>"
      ]
     },
     "metadata": {
      "needs_background": "light"
     },
     "output_type": "display_data"
    }
   ],
   "source": [
    "low_cal_df.plot(kind='barh')\n",
    "plt.title('Highest calories in the Regular menu')\n",
    "plt.xlabel('Energy (kCal)')\n",
    "plt.ylabel('Menu Items')\n",
    "plt.show()"
   ]
  },
  {
   "cell_type": "markdown",
   "metadata": {
    "id": "I7m81w-QT8ta"
   },
   "source": [
    "**Note:**L1 Coffee has Low Energy(kCal) is 6.80 KCal in the Regular menu"
   ]
  },
  {
   "cell_type": "markdown",
   "metadata": {
    "id": "4FI0Gt5rLaWN"
   },
   "source": [
    "**The highest protein in regular menu**"
   ]
  },
  {
   "cell_type": "code",
   "execution_count": 52,
   "metadata": {
    "colab": {
     "base_uri": "https://localhost:8080/",
     "height": 293
    },
    "executionInfo": {
     "elapsed": 1413,
     "status": "ok",
     "timestamp": 1662960439047,
     "user": {
      "displayName": "brijesh kumar",
      "userId": "13775173205173304916"
     },
     "user_tz": -330
    },
    "id": "zbE3acmqLn-M",
    "outputId": "d7627b54-07c1-4f60-fc47-755dbc751709"
   },
   "outputs": [
    {
     "data": {
      "text/html": [
       "<div>\n",
       "<style scoped>\n",
       "    .dataframe tbody tr th:only-of-type {\n",
       "        vertical-align: middle;\n",
       "    }\n",
       "\n",
       "    .dataframe tbody tr th {\n",
       "        vertical-align: top;\n",
       "    }\n",
       "\n",
       "    .dataframe thead th {\n",
       "        text-align: right;\n",
       "    }\n",
       "</style>\n",
       "<table border=\"1\" class=\"dataframe\">\n",
       "  <thead>\n",
       "    <tr style=\"text-align: right;\">\n",
       "      <th></th>\n",
       "      <th>Menu Category</th>\n",
       "      <th>Menu Items</th>\n",
       "      <th>Per Serve Size</th>\n",
       "      <th>Energy (kCal)</th>\n",
       "      <th>Protein (g)</th>\n",
       "    </tr>\n",
       "  </thead>\n",
       "  <tbody>\n",
       "    <tr>\n",
       "      <th>12</th>\n",
       "      <td>Regular Menu</td>\n",
       "      <td>Chicken Maharaja Mac</td>\n",
       "      <td>296 g</td>\n",
       "      <td>689.12</td>\n",
       "      <td>34.00</td>\n",
       "    </tr>\n",
       "    <tr>\n",
       "      <th>18</th>\n",
       "      <td>Regular Menu</td>\n",
       "      <td>Ghee Rice with Mc Spicy Fried Chicken 1 pc</td>\n",
       "      <td>325 g</td>\n",
       "      <td>720.30</td>\n",
       "      <td>26.91</td>\n",
       "    </tr>\n",
       "    <tr>\n",
       "      <th>25</th>\n",
       "      <td>Regular Menu</td>\n",
       "      <td>5 piece Chicken Strips</td>\n",
       "      <td>145 g</td>\n",
       "      <td>411.09</td>\n",
       "      <td>25.43</td>\n",
       "    </tr>\n",
       "    <tr>\n",
       "      <th>5</th>\n",
       "      <td>Regular Menu</td>\n",
       "      <td>Veg Maharaja Mac</td>\n",
       "      <td>306 g</td>\n",
       "      <td>832.67</td>\n",
       "      <td>24.17</td>\n",
       "    </tr>\n",
       "    <tr>\n",
       "      <th>11</th>\n",
       "      <td>Regular Menu</td>\n",
       "      <td>Spicy Chicken Wrap</td>\n",
       "      <td>257 g</td>\n",
       "      <td>567.19</td>\n",
       "      <td>23.74</td>\n",
       "    </tr>\n",
       "  </tbody>\n",
       "</table>\n",
       "</div>"
      ],
      "text/plain": [
       "   Menu Category                                  Menu Items Per Serve Size  \\\n",
       "12  Regular Menu                        Chicken Maharaja Mac          296 g   \n",
       "18  Regular Menu  Ghee Rice with Mc Spicy Fried Chicken 1 pc          325 g   \n",
       "25  Regular Menu                      5 piece Chicken Strips          145 g   \n",
       "5   Regular Menu                            Veg Maharaja Mac          306 g   \n",
       "11  Regular Menu                          Spicy Chicken Wrap          257 g   \n",
       "\n",
       "    Energy (kCal)  Protein (g)  \n",
       "12         689.12        34.00  \n",
       "18         720.30        26.91  \n",
       "25         411.09        25.43  \n",
       "5          832.67        24.17  \n",
       "11         567.19        23.74  "
      ]
     },
     "execution_count": 52,
     "metadata": {},
     "output_type": "execute_result"
    }
   ],
   "source": [
    "max_pro_df=df[df['Menu Category']=='Regular Menu']\n",
    "max_pro_df.sort_values('Protein (g)',ascending=False,inplace=True)\n",
    "max_pro_df.iloc[:5,:5]"
   ]
  },
  {
   "cell_type": "markdown",
   "metadata": {
    "id": "DShJ3FhkV6My"
   },
   "source": [
    "**Note:**Chicken Maharaja Mac has high Protien content in the Regular menu"
   ]
  },
  {
   "cell_type": "markdown",
   "metadata": {
    "id": "iNo_Y4zTQINC"
   },
   "source": [
    "**Avg Nutrients content in menu category**"
   ]
  },
  {
   "cell_type": "code",
   "execution_count": 53,
   "metadata": {
    "colab": {
     "base_uri": "https://localhost:8080/",
     "height": 344
    },
    "executionInfo": {
     "elapsed": 58,
     "status": "ok",
     "timestamp": 1662960439048,
     "user": {
      "displayName": "brijesh kumar",
      "userId": "13775173205173304916"
     },
     "user_tz": -330
    },
    "id": "rrdHHJGWQHhz",
    "outputId": "d3aeee97-d741-429c-8c09-34dfe6a87e59"
   },
   "outputs": [
    {
     "data": {
      "text/html": [
       "<div>\n",
       "<style scoped>\n",
       "    .dataframe tbody tr th:only-of-type {\n",
       "        vertical-align: middle;\n",
       "    }\n",
       "\n",
       "    .dataframe tbody tr th {\n",
       "        vertical-align: top;\n",
       "    }\n",
       "\n",
       "    .dataframe thead th {\n",
       "        text-align: right;\n",
       "    }\n",
       "</style>\n",
       "<table border=\"1\" class=\"dataframe\">\n",
       "  <thead>\n",
       "    <tr style=\"text-align: right;\">\n",
       "      <th></th>\n",
       "      <th>Energy (kCal)</th>\n",
       "      <th>Protein (g)</th>\n",
       "      <th>Total fat (g)</th>\n",
       "      <th>Sat Fat (g)</th>\n",
       "      <th>Trans fat (g)</th>\n",
       "      <th>Cholesterols (mg)</th>\n",
       "      <th>Total carbohydrate (g)</th>\n",
       "      <th>Total Sugars (g)</th>\n",
       "      <th>Added Sugars (g)</th>\n",
       "      <th>Sodium (mg)</th>\n",
       "    </tr>\n",
       "    <tr>\n",
       "      <th>Menu Category</th>\n",
       "      <th></th>\n",
       "      <th></th>\n",
       "      <th></th>\n",
       "      <th></th>\n",
       "      <th></th>\n",
       "      <th></th>\n",
       "      <th></th>\n",
       "      <th></th>\n",
       "      <th></th>\n",
       "      <th></th>\n",
       "    </tr>\n",
       "  </thead>\n",
       "  <tbody>\n",
       "    <tr>\n",
       "      <th>Beverages Menu</th>\n",
       "      <td>143.326471</td>\n",
       "      <td>0.268235</td>\n",
       "      <td>0.308824</td>\n",
       "      <td>0.225882</td>\n",
       "      <td>0.008824</td>\n",
       "      <td>0.829412</td>\n",
       "      <td>34.851765</td>\n",
       "      <td>34.677059</td>\n",
       "      <td>34.025882</td>\n",
       "      <td>37.604118</td>\n",
       "    </tr>\n",
       "    <tr>\n",
       "      <th>Breakfast Menu</th>\n",
       "      <td>181.290000</td>\n",
       "      <td>7.636667</td>\n",
       "      <td>7.735333</td>\n",
       "      <td>4.354000</td>\n",
       "      <td>0.146000</td>\n",
       "      <td>61.010667</td>\n",
       "      <td>21.074000</td>\n",
       "      <td>4.358667</td>\n",
       "      <td>1.220000</td>\n",
       "      <td>360.378000</td>\n",
       "    </tr>\n",
       "    <tr>\n",
       "      <th>Condiments Menu</th>\n",
       "      <td>47.473333</td>\n",
       "      <td>0.731111</td>\n",
       "      <td>3.876667</td>\n",
       "      <td>0.572222</td>\n",
       "      <td>0.067778</td>\n",
       "      <td>1.834444</td>\n",
       "      <td>8.287778</td>\n",
       "      <td>6.104444</td>\n",
       "      <td>1.691111</td>\n",
       "      <td>121.148889</td>\n",
       "    </tr>\n",
       "    <tr>\n",
       "      <th>Desserts Menu</th>\n",
       "      <td>162.875000</td>\n",
       "      <td>2.815000</td>\n",
       "      <td>5.255000</td>\n",
       "      <td>3.160000</td>\n",
       "      <td>0.095000</td>\n",
       "      <td>6.400000</td>\n",
       "      <td>26.055000</td>\n",
       "      <td>19.920000</td>\n",
       "      <td>15.015000</td>\n",
       "      <td>115.815000</td>\n",
       "    </tr>\n",
       "    <tr>\n",
       "      <th>Gourmet Menu</th>\n",
       "      <td>543.497273</td>\n",
       "      <td>21.684545</td>\n",
       "      <td>27.671818</td>\n",
       "      <td>11.987273</td>\n",
       "      <td>0.194545</td>\n",
       "      <td>73.210909</td>\n",
       "      <td>49.179091</td>\n",
       "      <td>8.799091</td>\n",
       "      <td>4.811818</td>\n",
       "      <td>1166.438636</td>\n",
       "    </tr>\n",
       "    <tr>\n",
       "      <th>McCafe Menu</th>\n",
       "      <td>183.679608</td>\n",
       "      <td>4.295490</td>\n",
       "      <td>5.945686</td>\n",
       "      <td>4.558824</td>\n",
       "      <td>0.219804</td>\n",
       "      <td>12.861373</td>\n",
       "      <td>29.039412</td>\n",
       "      <td>22.615490</td>\n",
       "      <td>13.680980</td>\n",
       "      <td>103.371961</td>\n",
       "    </tr>\n",
       "    <tr>\n",
       "      <th>Regular Menu</th>\n",
       "      <td>367.737778</td>\n",
       "      <td>12.990833</td>\n",
       "      <td>17.625833</td>\n",
       "      <td>7.213333</td>\n",
       "      <td>2.233333</td>\n",
       "      <td>35.987222</td>\n",
       "      <td>37.237778</td>\n",
       "      <td>5.019444</td>\n",
       "      <td>1.801667</td>\n",
       "      <td>704.758333</td>\n",
       "    </tr>\n",
       "  </tbody>\n",
       "</table>\n",
       "</div>"
      ],
      "text/plain": [
       "                 Energy (kCal)  Protein (g)  Total fat (g)  Sat Fat (g)  \\\n",
       "Menu Category                                                             \n",
       "Beverages Menu      143.326471     0.268235       0.308824     0.225882   \n",
       "Breakfast Menu      181.290000     7.636667       7.735333     4.354000   \n",
       "Condiments Menu      47.473333     0.731111       3.876667     0.572222   \n",
       "Desserts Menu       162.875000     2.815000       5.255000     3.160000   \n",
       "Gourmet Menu        543.497273    21.684545      27.671818    11.987273   \n",
       "McCafe Menu         183.679608     4.295490       5.945686     4.558824   \n",
       "Regular Menu        367.737778    12.990833      17.625833     7.213333   \n",
       "\n",
       "                 Trans fat (g)  Cholesterols (mg)  Total carbohydrate (g)  \\\n",
       "Menu Category                                                               \n",
       "Beverages Menu        0.008824           0.829412               34.851765   \n",
       "Breakfast Menu        0.146000          61.010667               21.074000   \n",
       "Condiments Menu       0.067778           1.834444                8.287778   \n",
       "Desserts Menu         0.095000           6.400000               26.055000   \n",
       "Gourmet Menu          0.194545          73.210909               49.179091   \n",
       "McCafe Menu           0.219804          12.861373               29.039412   \n",
       "Regular Menu          2.233333          35.987222               37.237778   \n",
       "\n",
       "                 Total Sugars (g)  Added Sugars (g)  Sodium (mg)  \n",
       "Menu Category                                                     \n",
       "Beverages Menu          34.677059         34.025882    37.604118  \n",
       "Breakfast Menu           4.358667          1.220000   360.378000  \n",
       "Condiments Menu          6.104444          1.691111   121.148889  \n",
       "Desserts Menu           19.920000         15.015000   115.815000  \n",
       "Gourmet Menu             8.799091          4.811818  1166.438636  \n",
       "McCafe Menu             22.615490         13.680980   103.371961  \n",
       "Regular Menu             5.019444          1.801667   704.758333  "
      ]
     },
     "execution_count": 53,
     "metadata": {},
     "output_type": "execute_result"
    }
   ],
   "source": [
    "mean_df=df.groupby('Menu Category',).mean()\n",
    "mean_df"
   ]
  },
  {
   "cell_type": "markdown",
   "metadata": {
    "id": "SVEkhnQj1NL2"
   },
   "source": [
    "**Maximum Nutrients content in menu category**"
   ]
  },
  {
   "cell_type": "code",
   "execution_count": 54,
   "metadata": {
    "colab": {
     "base_uri": "https://localhost:8080/",
     "height": 414
    },
    "executionInfo": {
     "elapsed": 58,
     "status": "ok",
     "timestamp": 1662960439049,
     "user": {
      "displayName": "brijesh kumar",
      "userId": "13775173205173304916"
     },
     "user_tz": -330
    },
    "id": "9DZupvte1afW",
    "outputId": "8eac06bd-bafe-408a-ce0a-56e28dfc4860"
   },
   "outputs": [
    {
     "data": {
      "text/html": [
       "<div>\n",
       "<style scoped>\n",
       "    .dataframe tbody tr th:only-of-type {\n",
       "        vertical-align: middle;\n",
       "    }\n",
       "\n",
       "    .dataframe tbody tr th {\n",
       "        vertical-align: top;\n",
       "    }\n",
       "\n",
       "    .dataframe thead th {\n",
       "        text-align: right;\n",
       "    }\n",
       "</style>\n",
       "<table border=\"1\" class=\"dataframe\">\n",
       "  <thead>\n",
       "    <tr style=\"text-align: right;\">\n",
       "      <th></th>\n",
       "      <th>Menu Items</th>\n",
       "      <th>Per Serve Size</th>\n",
       "      <th>Energy (kCal)</th>\n",
       "      <th>Protein (g)</th>\n",
       "      <th>Total fat (g)</th>\n",
       "      <th>Sat Fat (g)</th>\n",
       "      <th>Trans fat (g)</th>\n",
       "      <th>Cholesterols (mg)</th>\n",
       "      <th>Total carbohydrate (g)</th>\n",
       "      <th>Total Sugars (g)</th>\n",
       "      <th>Added Sugars (g)</th>\n",
       "      <th>Sodium (mg)</th>\n",
       "    </tr>\n",
       "    <tr>\n",
       "      <th>Menu Category</th>\n",
       "      <th></th>\n",
       "      <th></th>\n",
       "      <th></th>\n",
       "      <th></th>\n",
       "      <th></th>\n",
       "      <th></th>\n",
       "      <th></th>\n",
       "      <th></th>\n",
       "      <th></th>\n",
       "      <th></th>\n",
       "      <th></th>\n",
       "      <th></th>\n",
       "    </tr>\n",
       "  </thead>\n",
       "  <tbody>\n",
       "    <tr>\n",
       "      <th>Beverages Menu</th>\n",
       "      <td>Vedica Natural Mineral Water</td>\n",
       "      <td>544 ml</td>\n",
       "      <td>256.88</td>\n",
       "      <td>1.52</td>\n",
       "      <td>1.75</td>\n",
       "      <td>1.28</td>\n",
       "      <td>0.05</td>\n",
       "      <td>4.70</td>\n",
       "      <td>64.22</td>\n",
       "      <td>64.22</td>\n",
       "      <td>64.22</td>\n",
       "      <td>110.16</td>\n",
       "    </tr>\n",
       "    <tr>\n",
       "      <th>Breakfast Menu</th>\n",
       "      <td>Veg McMuffin</td>\n",
       "      <td>76.5 ml</td>\n",
       "      <td>432.98</td>\n",
       "      <td>22.46</td>\n",
       "      <td>15.94</td>\n",
       "      <td>8.84</td>\n",
       "      <td>0.32</td>\n",
       "      <td>264.80</td>\n",
       "      <td>68.01</td>\n",
       "      <td>25.72</td>\n",
       "      <td>13.50</td>\n",
       "      <td>804.63</td>\n",
       "    </tr>\n",
       "    <tr>\n",
       "      <th>Condiments Menu</th>\n",
       "      <td>Tomato Ketchup Sachets</td>\n",
       "      <td>8 g</td>\n",
       "      <td>86.40</td>\n",
       "      <td>3.06</td>\n",
       "      <td>23.45</td>\n",
       "      <td>2.89</td>\n",
       "      <td>0.47</td>\n",
       "      <td>13.43</td>\n",
       "      <td>21.60</td>\n",
       "      <td>16.83</td>\n",
       "      <td>5.34</td>\n",
       "      <td>414.71</td>\n",
       "    </tr>\n",
       "    <tr>\n",
       "      <th>Desserts Menu</th>\n",
       "      <td>Small McFlurry - Oreo</td>\n",
       "      <td>86.79 g</td>\n",
       "      <td>209.39</td>\n",
       "      <td>3.58</td>\n",
       "      <td>6.81</td>\n",
       "      <td>4.07</td>\n",
       "      <td>0.12</td>\n",
       "      <td>8.00</td>\n",
       "      <td>33.42</td>\n",
       "      <td>25.35</td>\n",
       "      <td>19.23</td>\n",
       "      <td>150.90</td>\n",
       "    </tr>\n",
       "    <tr>\n",
       "      <th>Gourmet Menu</th>\n",
       "      <td>Piri piri Mc Spicy Veg Burger</td>\n",
       "      <td>90 g</td>\n",
       "      <td>834.36</td>\n",
       "      <td>39.47</td>\n",
       "      <td>45.18</td>\n",
       "      <td>20.46</td>\n",
       "      <td>0.27</td>\n",
       "      <td>302.61</td>\n",
       "      <td>76.03</td>\n",
       "      <td>16.75</td>\n",
       "      <td>10.01</td>\n",
       "      <td>1906.27</td>\n",
       "    </tr>\n",
       "    <tr>\n",
       "      <th>McCafe Menu</th>\n",
       "      <td>Sweet Lime Beverage</td>\n",
       "      <td>93.29 g</td>\n",
       "      <td>481.11</td>\n",
       "      <td>12.08</td>\n",
       "      <td>18.89</td>\n",
       "      <td>15.91</td>\n",
       "      <td>0.46</td>\n",
       "      <td>42.55</td>\n",
       "      <td>79.04</td>\n",
       "      <td>55.14</td>\n",
       "      <td>44.35</td>\n",
       "      <td>332.60</td>\n",
       "    </tr>\n",
       "    <tr>\n",
       "      <th>Regular Menu</th>\n",
       "      <td>Veg Maharaja Mac</td>\n",
       "      <td>96 g</td>\n",
       "      <td>832.67</td>\n",
       "      <td>34.00</td>\n",
       "      <td>39.45</td>\n",
       "      <td>19.73</td>\n",
       "      <td>75.26</td>\n",
       "      <td>213.09</td>\n",
       "      <td>93.84</td>\n",
       "      <td>29.60</td>\n",
       "      <td>6.92</td>\n",
       "      <td>2399.49</td>\n",
       "    </tr>\n",
       "  </tbody>\n",
       "</table>\n",
       "</div>"
      ],
      "text/plain": [
       "                                    Menu Items Per Serve Size  Energy (kCal)  \\\n",
       "Menu Category                                                                  \n",
       "Beverages Menu    Vedica Natural Mineral Water         544 ml         256.88   \n",
       "Breakfast Menu                    Veg McMuffin        76.5 ml         432.98   \n",
       "Condiments Menu         Tomato Ketchup Sachets            8 g          86.40   \n",
       "Desserts Menu            Small McFlurry - Oreo        86.79 g         209.39   \n",
       "Gourmet Menu     Piri piri Mc Spicy Veg Burger           90 g         834.36   \n",
       "McCafe Menu                Sweet Lime Beverage        93.29 g         481.11   \n",
       "Regular Menu                  Veg Maharaja Mac           96 g         832.67   \n",
       "\n",
       "                 Protein (g)  Total fat (g)  Sat Fat (g)  Trans fat (g)  \\\n",
       "Menu Category                                                             \n",
       "Beverages Menu          1.52           1.75         1.28           0.05   \n",
       "Breakfast Menu         22.46          15.94         8.84           0.32   \n",
       "Condiments Menu         3.06          23.45         2.89           0.47   \n",
       "Desserts Menu           3.58           6.81         4.07           0.12   \n",
       "Gourmet Menu           39.47          45.18        20.46           0.27   \n",
       "McCafe Menu            12.08          18.89        15.91           0.46   \n",
       "Regular Menu           34.00          39.45        19.73          75.26   \n",
       "\n",
       "                 Cholesterols (mg)  Total carbohydrate (g)  Total Sugars (g)  \\\n",
       "Menu Category                                                                  \n",
       "Beverages Menu                4.70                   64.22             64.22   \n",
       "Breakfast Menu              264.80                   68.01             25.72   \n",
       "Condiments Menu              13.43                   21.60             16.83   \n",
       "Desserts Menu                 8.00                   33.42             25.35   \n",
       "Gourmet Menu                302.61                   76.03             16.75   \n",
       "McCafe Menu                  42.55                   79.04             55.14   \n",
       "Regular Menu                213.09                   93.84             29.60   \n",
       "\n",
       "                 Added Sugars (g)  Sodium (mg)  \n",
       "Menu Category                                   \n",
       "Beverages Menu              64.22       110.16  \n",
       "Breakfast Menu              13.50       804.63  \n",
       "Condiments Menu              5.34       414.71  \n",
       "Desserts Menu               19.23       150.90  \n",
       "Gourmet Menu                10.01      1906.27  \n",
       "McCafe Menu                 44.35       332.60  \n",
       "Regular Menu                 6.92      2399.49  "
      ]
     },
     "execution_count": 54,
     "metadata": {},
     "output_type": "execute_result"
    }
   ],
   "source": [
    "max_df=df.groupby('Menu Category',).max()\n",
    "max_df"
   ]
  },
  {
   "cell_type": "markdown",
   "metadata": {
    "id": "PrzOZNxnwsWq"
   },
   "source": [
    "**Note**: **Piri piri Mc Spicy Veg Burger** in **Gourmet Menu** has highest Energy \n",
    "content,protein,total fat,cholesterols and sodium content"
   ]
  },
  {
   "cell_type": "markdown",
   "metadata": {
    "id": "fF5pzw81zoQC"
   },
   "source": [
    "**Max Protien content in menu category**"
   ]
  },
  {
   "cell_type": "code",
   "execution_count": 55,
   "metadata": {
    "colab": {
     "base_uri": "https://localhost:8080/",
     "height": 300
    },
    "executionInfo": {
     "elapsed": 56,
     "status": "ok",
     "timestamp": 1662960439050,
     "user": {
      "displayName": "brijesh kumar",
      "userId": "13775173205173304916"
     },
     "user_tz": -330
    },
    "id": "dREGVSfLz3wf",
    "outputId": "8c0fbe76-a0d0-43c7-9932-9b85f81efadc"
   },
   "outputs": [
    {
     "data": {
      "text/html": [
       "<div>\n",
       "<style scoped>\n",
       "    .dataframe tbody tr th:only-of-type {\n",
       "        vertical-align: middle;\n",
       "    }\n",
       "\n",
       "    .dataframe tbody tr th {\n",
       "        vertical-align: top;\n",
       "    }\n",
       "\n",
       "    .dataframe thead th {\n",
       "        text-align: right;\n",
       "    }\n",
       "</style>\n",
       "<table border=\"1\" class=\"dataframe\">\n",
       "  <thead>\n",
       "    <tr style=\"text-align: right;\">\n",
       "      <th></th>\n",
       "      <th>Protein (g)</th>\n",
       "    </tr>\n",
       "    <tr>\n",
       "      <th>Menu Category</th>\n",
       "      <th></th>\n",
       "    </tr>\n",
       "  </thead>\n",
       "  <tbody>\n",
       "    <tr>\n",
       "      <th>Beverages Menu</th>\n",
       "      <td>1.52</td>\n",
       "    </tr>\n",
       "    <tr>\n",
       "      <th>Breakfast Menu</th>\n",
       "      <td>22.46</td>\n",
       "    </tr>\n",
       "    <tr>\n",
       "      <th>Condiments Menu</th>\n",
       "      <td>3.06</td>\n",
       "    </tr>\n",
       "    <tr>\n",
       "      <th>Desserts Menu</th>\n",
       "      <td>3.58</td>\n",
       "    </tr>\n",
       "    <tr>\n",
       "      <th>Gourmet Menu</th>\n",
       "      <td>39.47</td>\n",
       "    </tr>\n",
       "    <tr>\n",
       "      <th>McCafe Menu</th>\n",
       "      <td>12.08</td>\n",
       "    </tr>\n",
       "    <tr>\n",
       "      <th>Regular Menu</th>\n",
       "      <td>34.00</td>\n",
       "    </tr>\n",
       "  </tbody>\n",
       "</table>\n",
       "</div>"
      ],
      "text/plain": [
       "                 Protein (g)\n",
       "Menu Category               \n",
       "Beverages Menu          1.52\n",
       "Breakfast Menu         22.46\n",
       "Condiments Menu         3.06\n",
       "Desserts Menu           3.58\n",
       "Gourmet Menu           39.47\n",
       "McCafe Menu            12.08\n",
       "Regular Menu           34.00"
      ]
     },
     "execution_count": 55,
     "metadata": {},
     "output_type": "execute_result"
    }
   ],
   "source": [
    "max_protien_df=df.groupby('Menu Category').agg({'Protein (g)':'max'})\n",
    "max_protien_df"
   ]
  },
  {
   "cell_type": "markdown",
   "metadata": {
    "id": "Blq3zcjDWngc"
   },
   "source": [
    "**Bar Plot**"
   ]
  },
  {
   "cell_type": "code",
   "execution_count": 56,
   "metadata": {
    "colab": {
     "base_uri": "https://localhost:8080/",
     "height": 484
    },
    "executionInfo": {
     "elapsed": 54,
     "status": "ok",
     "timestamp": 1662960439051,
     "user": {
      "displayName": "brijesh kumar",
      "userId": "13775173205173304916"
     },
     "user_tz": -330
    },
    "id": "I0sILgezWvnq",
    "outputId": "4b5f59a1-d7e6-4afc-da5c-3ea0e70d46aa"
   },
   "outputs": [
    {
     "data": {
      "image/png": "[encoded data removed]",
      "text/plain": [
       "<Figure size 576x432 with 1 Axes>"
      ]
     },
     "metadata": {
      "needs_background": "light"
     },
     "output_type": "display_data"
    }
   ],
   "source": [
    "max_protien_df['Protein (g)'].plot(kind='bar',figsize=(8,6))\n",
    "plt.title('Max Protien content in menu category')\n",
    "plt.show()"
   ]
  },
  {
   "cell_type": "markdown",
   "metadata": {
    "id": "gOZzZlh5125i"
   },
   "source": [
    "**Pie chart**"
   ]
  },
  {
   "cell_type": "code",
   "execution_count": 57,
   "metadata": {
    "colab": {
     "base_uri": "https://localhost:8080/",
     "height": 482
    },
    "executionInfo": {
     "elapsed": 54,
     "status": "ok",
     "timestamp": 1662960439052,
     "user": {
      "displayName": "brijesh kumar",
      "userId": "13775173205173304916"
     },
     "user_tz": -330
    },
    "id": "7GQQzQJR12NL",
    "outputId": "a738ee07-02f4-477c-8edb-9c2968b957b7"
   },
   "outputs": [
    {
     "data": {
      "image/png": "[encoded data removed]",
      "text/plain": [
       "<Figure size 720x576 with 1 Axes>"
      ]
     },
     "metadata": {},
     "output_type": "display_data"
    }
   ],
   "source": [
    "max_protien_df['Protein (g)'].plot(kind='pie',figsize=(10,8))\n",
    "plt.title('Max Protien content in menu category')\n",
    "plt.legend()\n",
    "plt.show()"
   ]
  },
  {
   "cell_type": "markdown",
   "metadata": {
    "id": "hSFm-gK-pgip"
   },
   "source": [
    "**Which food have maximum food content?**"
   ]
  },
  {
   "cell_type": "code",
   "execution_count": 58,
   "metadata": {
    "colab": {
     "base_uri": "https://localhost:8080/",
     "height": 513
    },
    "executionInfo": {
     "elapsed": 56,
     "status": "ok",
     "timestamp": 1662960439055,
     "user": {
      "displayName": "brijesh kumar",
      "userId": "13775173205173304916"
     },
     "user_tz": -330
    },
    "id": "FizChU-qpwcn",
    "outputId": "f308abfa-3e1a-41a0-b534-3cf165a017eb"
   },
   "outputs": [
    {
     "data": {
      "image/png": "[encoded data removed]",
      "text/plain": [
       "<Figure size 720x576 with 1 Axes>"
      ]
     },
     "metadata": {
      "needs_background": "light"
     },
     "output_type": "display_data"
    }
   ],
   "source": [
    "plt.figure(figsize=(10,8))\n",
    "sns.swarmplot(x='Menu Category',y='Sodium (mg)',data=df)\n",
    "plt.title('Sodium content')\n",
    "plt.show()"
   ]
  },
  {
   "cell_type": "code",
   "execution_count": 59,
   "metadata": {
    "colab": {
     "base_uri": "https://localhost:8080/"
    },
    "executionInfo": {
     "elapsed": 55,
     "status": "ok",
     "timestamp": 1662960439055,
     "user": {
      "displayName": "brijesh kumar",
      "userId": "13775173205173304916"
     },
     "user_tz": -330
    },
    "id": "X4kpj_tcr1cu",
    "outputId": "1e0c32f3-0870-4335-b44e-1c825dd208e7"
   },
   "outputs": [
    {
     "data": {
      "text/plain": [
       "count     141.000000\n",
       "mean      360.574504\n",
       "std       471.799303\n",
       "min         0.000000\n",
       "25%        44.530000\n",
       "50%       152.025000\n",
       "75%       530.540000\n",
       "max      2399.490000\n",
       "Name: Sodium (mg), dtype: float64"
      ]
     },
     "execution_count": 59,
     "metadata": {},
     "output_type": "execute_result"
    }
   ],
   "source": [
    "df['Sodium (mg)'].describe()"
   ]
  },
  {
   "cell_type": "code",
   "execution_count": 60,
   "metadata": {
    "colab": {
     "base_uri": "https://localhost:8080/",
     "height": 206
    },
    "executionInfo": {
     "elapsed": 54,
     "status": "ok",
     "timestamp": 1662960439056,
     "user": {
      "displayName": "brijesh kumar",
      "userId": "13775173205173304916"
     },
     "user_tz": -330
    },
    "id": "ktOTG6OCr6Ye",
    "outputId": "67f55f28-6786-4ec9-a311-4067b4232404"
   },
   "outputs": [
    {
     "data": {
      "text/html": [
       "<div>\n",
       "<style scoped>\n",
       "    .dataframe tbody tr th:only-of-type {\n",
       "        vertical-align: middle;\n",
       "    }\n",
       "\n",
       "    .dataframe tbody tr th {\n",
       "        vertical-align: top;\n",
       "    }\n",
       "\n",
       "    .dataframe thead th {\n",
       "        text-align: right;\n",
       "    }\n",
       "</style>\n",
       "<table border=\"1\" class=\"dataframe\">\n",
       "  <thead>\n",
       "    <tr style=\"text-align: right;\">\n",
       "      <th></th>\n",
       "      <th>Menu Items</th>\n",
       "      <th>Sodium (mg)</th>\n",
       "    </tr>\n",
       "  </thead>\n",
       "  <tbody>\n",
       "    <tr>\n",
       "      <th>18</th>\n",
       "      <td>Ghee Rice with Mc Spicy Fried Chicken 1 pc</td>\n",
       "      <td>2399.49</td>\n",
       "    </tr>\n",
       "    <tr>\n",
       "      <th>108</th>\n",
       "      <td>Chunky Chipotle American Burger Chicken</td>\n",
       "      <td>1906.27</td>\n",
       "    </tr>\n",
       "    <tr>\n",
       "      <th>12</th>\n",
       "      <td>Chicken Maharaja Mac</td>\n",
       "      <td>1854.71</td>\n",
       "    </tr>\n",
       "    <tr>\n",
       "      <th>107</th>\n",
       "      <td>Chicken Cheese Lava Burger</td>\n",
       "      <td>1745.04</td>\n",
       "    </tr>\n",
       "    <tr>\n",
       "      <th>109</th>\n",
       "      <td>McSpicy Premium Chicken Burger</td>\n",
       "      <td>1614.88</td>\n",
       "    </tr>\n",
       "  </tbody>\n",
       "</table>\n",
       "</div>"
      ],
      "text/plain": [
       "                                     Menu Items  Sodium (mg)\n",
       "18   Ghee Rice with Mc Spicy Fried Chicken 1 pc      2399.49\n",
       "108     Chunky Chipotle American Burger Chicken      1906.27\n",
       "12                         Chicken Maharaja Mac      1854.71\n",
       "107                  Chicken Cheese Lava Burger      1745.04\n",
       "109              McSpicy Premium Chicken Burger      1614.88"
      ]
     },
     "execution_count": 60,
     "metadata": {},
     "output_type": "execute_result"
    }
   ],
   "source": [
    "sodium_df=df.sort_values('Sodium (mg)',ascending=False)\n",
    "sodium_df[['Menu Items','Sodium (mg)']][:5]"
   ]
  },
  {
   "cell_type": "code",
   "execution_count": 61,
   "metadata": {
    "colab": {
     "base_uri": "https://localhost:8080/",
     "height": 407
    },
    "executionInfo": {
     "elapsed": 53,
     "status": "ok",
     "timestamp": 1662960439056,
     "user": {
      "displayName": "brijesh kumar",
      "userId": "13775173205173304916"
     },
     "user_tz": -330
    },
    "id": "w4OZfjCmQ2kK",
    "outputId": "4e576d26-7735-4a02-b972-947e20a52b4d"
   },
   "outputs": [
    {
     "data": {
      "text/html": [
       "<div>\n",
       "<style scoped>\n",
       "    .dataframe tbody tr th:only-of-type {\n",
       "        vertical-align: middle;\n",
       "    }\n",
       "\n",
       "    .dataframe tbody tr th {\n",
       "        vertical-align: top;\n",
       "    }\n",
       "\n",
       "    .dataframe thead th {\n",
       "        text-align: right;\n",
       "    }\n",
       "</style>\n",
       "<table border=\"1\" class=\"dataframe\">\n",
       "  <thead>\n",
       "    <tr style=\"text-align: right;\">\n",
       "      <th></th>\n",
       "      <th>Energy (kCal)</th>\n",
       "      <th>Protein (g)</th>\n",
       "      <th>Total fat (g)</th>\n",
       "      <th>Sat Fat (g)</th>\n",
       "      <th>Trans fat (g)</th>\n",
       "      <th>Cholesterols (mg)</th>\n",
       "      <th>Total carbohydrate (g)</th>\n",
       "      <th>Total Sugars (g)</th>\n",
       "      <th>Added Sugars (g)</th>\n",
       "      <th>Sodium (mg)</th>\n",
       "    </tr>\n",
       "  </thead>\n",
       "  <tbody>\n",
       "    <tr>\n",
       "      <th>Energy (kCal)</th>\n",
       "      <td>1.000000</td>\n",
       "      <td>0.826833</td>\n",
       "      <td>0.908642</td>\n",
       "      <td>0.798445</td>\n",
       "      <td>0.081401</td>\n",
       "      <td>0.379387</td>\n",
       "      <td>0.815603</td>\n",
       "      <td>0.063306</td>\n",
       "      <td>0.003639</td>\n",
       "      <td>0.847191</td>\n",
       "    </tr>\n",
       "    <tr>\n",
       "      <th>Protein (g)</th>\n",
       "      <td>0.826833</td>\n",
       "      <td>1.000000</td>\n",
       "      <td>0.875594</td>\n",
       "      <td>0.702715</td>\n",
       "      <td>0.189194</td>\n",
       "      <td>0.590031</td>\n",
       "      <td>0.415217</td>\n",
       "      <td>-0.282875</td>\n",
       "      <td>-0.319231</td>\n",
       "      <td>0.891732</td>\n",
       "    </tr>\n",
       "    <tr>\n",
       "      <th>Total fat (g)</th>\n",
       "      <td>0.908642</td>\n",
       "      <td>0.875594</td>\n",
       "      <td>1.000000</td>\n",
       "      <td>0.843381</td>\n",
       "      <td>0.158400</td>\n",
       "      <td>0.424339</td>\n",
       "      <td>0.538478</td>\n",
       "      <td>-0.220125</td>\n",
       "      <td>-0.280462</td>\n",
       "      <td>0.870475</td>\n",
       "    </tr>\n",
       "    <tr>\n",
       "      <th>Sat Fat (g)</th>\n",
       "      <td>0.798445</td>\n",
       "      <td>0.702715</td>\n",
       "      <td>0.843381</td>\n",
       "      <td>1.000000</td>\n",
       "      <td>-0.076431</td>\n",
       "      <td>0.363135</td>\n",
       "      <td>0.525837</td>\n",
       "      <td>-0.050434</td>\n",
       "      <td>-0.174230</td>\n",
       "      <td>0.637703</td>\n",
       "    </tr>\n",
       "    <tr>\n",
       "      <th>Trans fat (g)</th>\n",
       "      <td>0.081401</td>\n",
       "      <td>0.189194</td>\n",
       "      <td>0.158400</td>\n",
       "      <td>-0.076431</td>\n",
       "      <td>1.000000</td>\n",
       "      <td>-0.029681</td>\n",
       "      <td>-0.123237</td>\n",
       "      <td>-0.082297</td>\n",
       "      <td>-0.067124</td>\n",
       "      <td>0.154275</td>\n",
       "    </tr>\n",
       "    <tr>\n",
       "      <th>Cholesterols (mg)</th>\n",
       "      <td>0.379387</td>\n",
       "      <td>0.590031</td>\n",
       "      <td>0.424339</td>\n",
       "      <td>0.363135</td>\n",
       "      <td>-0.029681</td>\n",
       "      <td>1.000000</td>\n",
       "      <td>0.142834</td>\n",
       "      <td>-0.205699</td>\n",
       "      <td>-0.225601</td>\n",
       "      <td>0.471481</td>\n",
       "    </tr>\n",
       "    <tr>\n",
       "      <th>Total carbohydrate (g)</th>\n",
       "      <td>0.815603</td>\n",
       "      <td>0.415217</td>\n",
       "      <td>0.538478</td>\n",
       "      <td>0.525837</td>\n",
       "      <td>-0.123237</td>\n",
       "      <td>0.142834</td>\n",
       "      <td>1.000000</td>\n",
       "      <td>0.508707</td>\n",
       "      <td>0.455049</td>\n",
       "      <td>0.496244</td>\n",
       "    </tr>\n",
       "    <tr>\n",
       "      <th>Total Sugars (g)</th>\n",
       "      <td>0.063306</td>\n",
       "      <td>-0.282875</td>\n",
       "      <td>-0.220125</td>\n",
       "      <td>-0.050434</td>\n",
       "      <td>-0.082297</td>\n",
       "      <td>-0.205699</td>\n",
       "      <td>0.508707</td>\n",
       "      <td>1.000000</td>\n",
       "      <td>0.912168</td>\n",
       "      <td>-0.297543</td>\n",
       "    </tr>\n",
       "    <tr>\n",
       "      <th>Added Sugars (g)</th>\n",
       "      <td>0.003639</td>\n",
       "      <td>-0.319231</td>\n",
       "      <td>-0.280462</td>\n",
       "      <td>-0.174230</td>\n",
       "      <td>-0.067124</td>\n",
       "      <td>-0.225601</td>\n",
       "      <td>0.455049</td>\n",
       "      <td>0.912168</td>\n",
       "      <td>1.000000</td>\n",
       "      <td>-0.271891</td>\n",
       "    </tr>\n",
       "    <tr>\n",
       "      <th>Sodium (mg)</th>\n",
       "      <td>0.847191</td>\n",
       "      <td>0.891732</td>\n",
       "      <td>0.870475</td>\n",
       "      <td>0.637703</td>\n",
       "      <td>0.154275</td>\n",
       "      <td>0.471481</td>\n",
       "      <td>0.496244</td>\n",
       "      <td>-0.297543</td>\n",
       "      <td>-0.271891</td>\n",
       "      <td>1.000000</td>\n",
       "    </tr>\n",
       "  </tbody>\n",
       "</table>\n",
       "</div>"
      ],
      "text/plain": [
       "                        Energy (kCal)  Protein (g)  Total fat (g)  \\\n",
       "Energy (kCal)                1.000000     0.826833       0.908642   \n",
       "Protein (g)                  0.826833     1.000000       0.875594   \n",
       "Total fat (g)                0.908642     0.875594       1.000000   \n",
       "Sat Fat (g)                  0.798445     0.702715       0.843381   \n",
       "Trans fat (g)                0.081401     0.189194       0.158400   \n",
       "Cholesterols (mg)            0.379387     0.590031       0.424339   \n",
       "Total carbohydrate (g)       0.815603     0.415217       0.538478   \n",
       "Total Sugars (g)             0.063306    -0.282875      -0.220125   \n",
       "Added Sugars (g)             0.003639    -0.319231      -0.280462   \n",
       "Sodium (mg)                  0.847191     0.891732       0.870475   \n",
       "\n",
       "                        Sat Fat (g)  Trans fat (g)  Cholesterols (mg)  \\\n",
       "Energy (kCal)              0.798445       0.081401           0.379387   \n",
       "Protein (g)                0.702715       0.189194           0.590031   \n",
       "Total fat (g)              0.843381       0.158400           0.424339   \n",
       "Sat Fat (g)                1.000000      -0.076431           0.363135   \n",
       "Trans fat (g)             -0.076431       1.000000          -0.029681   \n",
       "Cholesterols (mg)          0.363135      -0.029681           1.000000   \n",
       "Total carbohydrate (g)     0.525837      -0.123237           0.142834   \n",
       "Total Sugars (g)          -0.050434      -0.082297          -0.205699   \n",
       "Added Sugars (g)          -0.174230      -0.067124          -0.225601   \n",
       "Sodium (mg)                0.637703       0.154275           0.471481   \n",
       "\n",
       "                        Total carbohydrate (g)  Total Sugars (g)  \\\n",
       "Energy (kCal)                         0.815603          0.063306   \n",
       "Protein (g)                           0.415217         -0.282875   \n",
       "Total fat (g)                         0.538478         -0.220125   \n",
       "Sat Fat (g)                           0.525837         -0.050434   \n",
       "Trans fat (g)                        -0.123237         -0.082297   \n",
       "Cholesterols (mg)                     0.142834         -0.205699   \n",
       "Total carbohydrate (g)                1.000000          0.508707   \n",
       "Total Sugars (g)                      0.508707          1.000000   \n",
       "Added Sugars (g)                      0.455049          0.912168   \n",
       "Sodium (mg)                           0.496244         -0.297543   \n",
       "\n",
       "                        Added Sugars (g)  Sodium (mg)  \n",
       "Energy (kCal)                   0.003639     0.847191  \n",
       "Protein (g)                    -0.319231     0.891732  \n",
       "Total fat (g)                  -0.280462     0.870475  \n",
       "Sat Fat (g)                    -0.174230     0.637703  \n",
       "Trans fat (g)                  -0.067124     0.154275  \n",
       "Cholesterols (mg)              -0.225601     0.471481  \n",
       "Total carbohydrate (g)          0.455049     0.496244  \n",
       "Total Sugars (g)                0.912168    -0.297543  \n",
       "Added Sugars (g)                1.000000    -0.271891  \n",
       "Sodium (mg)                    -0.271891     1.000000  "
      ]
     },
     "execution_count": 61,
     "metadata": {},
     "output_type": "execute_result"
    }
   ],
   "source": [
    "df.corr()"
   ]
  },
  {
   "cell_type": "code",
   "execution_count": 62,
   "metadata": {
    "colab": {
     "base_uri": "https://localhost:8080/",
     "height": 604
    },
    "executionInfo": {
     "elapsed": 1486,
     "status": "ok",
     "timestamp": 1662960440490,
     "user": {
      "displayName": "brijesh kumar",
      "userId": "13775173205173304916"
     },
     "user_tz": -330
    },
    "id": "vBjMXD6dSsnr",
    "outputId": "cc323fef-2fde-4940-e4df-1b8d3bd5e250"
   },
   "outputs": [
    {
     "data": {
      "text/plain": [
       "<AxesSubplot:>"
      ]
     },
     "execution_count": 62,
     "metadata": {},
     "output_type": "execute_result"
    },
    {
     "data": {
      "image/png": "[encoded data removed]",
      "text/plain": [
       "<Figure size 576x576 with 2 Axes>"
      ]
     },
     "metadata": {
      "needs_background": "light"
     },
     "output_type": "display_data"
    }
   ],
   "source": [
    "plt.figure(figsize=(8,8))\n",
    "sns.heatmap(df.corr(), annot=True)"
   ]
  },
  {
   "cell_type": "markdown",
   "metadata": {
    "id": "POWDFpQgWNFV"
   },
   "source": [
    "**Scatter plots**"
   ]
  },
  {
   "cell_type": "markdown",
   "metadata": {
    "id": "QYyKqyecadRq"
   },
   "source": [
    "**Correlation is high in between Energy and Total fat**"
   ]
  },
  {
   "cell_type": "code",
   "execution_count": 63,
   "metadata": {
    "colab": {
     "base_uri": "https://localhost:8080/",
     "height": 530
    },
    "executionInfo": {
     "elapsed": 30,
     "status": "ok",
     "timestamp": 1662960440492,
     "user": {
      "displayName": "brijesh kumar",
      "userId": "13775173205173304916"
     },
     "user_tz": -330
    },
    "id": "bHMjUHncWbTy",
    "outputId": "d3fea011-9a9f-48c4-fbf9-e0f815fc54c3"
   },
   "outputs": [
    {
     "data": {
      "text/plain": [
       "Text(0.5, 1.0, 'Correlation is between Energy and Total fat')"
      ]
     },
     "execution_count": 63,
     "metadata": {},
     "output_type": "execute_result"
    },
    {
     "data": {
      "image/png": "[encoded data removed]",
      "text/plain": [
       "<Figure size 576x576 with 1 Axes>"
      ]
     },
     "metadata": {
      "needs_background": "light"
     },
     "output_type": "display_data"
    }
   ],
   "source": [
    "plt.figure(figsize=(8,8))\n",
    "sns.scatterplot(data=df,x='Total fat (g)',y='Energy (kCal)')\n",
    "plt.title('Correlation is between Energy and Total fat')\n",
    "    \n"
   ]
  },
  {
   "cell_type": "markdown",
   "metadata": {
    "id": "AaM4EV5ma7cE"
   },
   "source": [
    "**correlation between sodium and protien**"
   ]
  },
  {
   "cell_type": "code",
   "execution_count": 64,
   "metadata": {
    "colab": {
     "base_uri": "https://localhost:8080/",
     "height": 530
    },
    "executionInfo": {
     "elapsed": 26,
     "status": "ok",
     "timestamp": 1662960440493,
     "user": {
      "displayName": "brijesh kumar",
      "userId": "13775173205173304916"
     },
     "user_tz": -330
    },
    "id": "nlMYPJoabHHv",
    "outputId": "515dc011-750b-4dab-9afa-5e1fcdc7f754"
   },
   "outputs": [
    {
     "data": {
      "text/plain": [
       "Text(0.5, 1.0, 'Correlation between sodium and protien')"
      ]
     },
     "execution_count": 64,
     "metadata": {},
     "output_type": "execute_result"
    },
    {
     "data": {
      "image/png": "[encoded data removed]",
      "text/plain": [
       "<Figure size 576x576 with 1 Axes>"
      ]
     },
     "metadata": {
      "needs_background": "light"
     },
     "output_type": "display_data"
    }
   ],
   "source": [
    "plt.figure(figsize=(8,8))\n",
    "sns.scatterplot(data=df,x='Protein (g)',y='Sodium (mg)')\n",
    "plt.title('Correlation between sodium and protien')"
   ]
  },
  {
   "cell_type": "markdown",
   "metadata": {
    "id": "WYAVmMH2xrGg"
   },
   "source": [
    "**Note**:Energy (kCal),Trans fat (g),Sodium (mg) have positive correlation among each other"
   ]
  }
 ],
 "metadata": {
  "colab": {
   "authorship_tag": "ABX9TyOFhhGCVeCFBkHXUgCYBVrW",
   "collapsed_sections": [],
   "provenance": []
  },
  "kernelspec": {
   "display_name": "Python 3 (ipykernel)",
   "language": "python",
   "name": "python3"
  },
  "language_info": {
   "codemirror_mode": {
    "name": "ipython",
    "version": 3
   },
   "file_extension": ".py",
   "mimetype": "text/x-python",
   "name": "python",
   "nbconvert_exporter": "python",
   "pygments_lexer": "ipython3",
   "version": "3.9.12"
  }
 },
 "nbformat": 4,
 "nbformat_minor": 1
}
