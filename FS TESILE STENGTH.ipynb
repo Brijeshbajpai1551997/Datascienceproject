{
 "cells": [
  {
   "cell_type": "code",
   "execution_count": 79,
   "metadata": {
    "executionInfo": {
     "elapsed": 3863,
     "status": "ok",
     "timestamp": 1665289804361,
     "user": {
      "displayName": "brijesh kumar",
      "userId": "13775173205173304916"
     },
     "user_tz": -330
    },
    "id": "9b32ob_BzvVL"
   },
   "outputs": [],
   "source": [
    "import pandas as pd\n",
    "import matplotlib as mpl\n",
    "import matplotlib.pyplot as plt\n",
    "import seaborn as sns\n",
    "from numpy import math\n",
    "\n",
    "from sklearn.preprocessing import MinMaxScaler\n",
    "\n",
    "from sklearn.linear_model import LinearRegression\n",
    "from sklearn.metrics import r2_score\n",
    "from sklearn.metrics import mean_squared_error\n",
    "import warnings; warnings.filterwarnings(\"ignore\"); warnings.simplefilter('ignore')"
   ]
  },
  {
   "cell_type": "code",
   "execution_count": 80,
   "metadata": {
    "colab": {
     "base_uri": "https://localhost:8080/",
     "height": 206
    },
    "executionInfo": {
     "elapsed": 914,
     "status": "ok",
     "timestamp": 1665289805270,
     "user": {
      "displayName": "brijesh kumar",
      "userId": "13775173205173304916"
     },
     "user_tz": -330
    },
    "id": "ZdJjhOS80MAJ",
    "outputId": "610f987c-4775-4496-b53f-250640fd1d25"
   },
   "outputs": [
    {
     "data": {
      "text/html": [
       "<div>\n",
       "<style scoped>\n",
       "    .dataframe tbody tr th:only-of-type {\n",
       "        vertical-align: middle;\n",
       "    }\n",
       "\n",
       "    .dataframe tbody tr th {\n",
       "        vertical-align: top;\n",
       "    }\n",
       "\n",
       "    .dataframe thead th {\n",
       "        text-align: right;\n",
       "    }\n",
       "</style>\n",
       "<table border=\"1\" class=\"dataframe\">\n",
       "  <thead>\n",
       "    <tr style=\"text-align: right;\">\n",
       "      <th></th>\n",
       "      <th>RS</th>\n",
       "      <th>WS</th>\n",
       "      <th>TA</th>\n",
       "      <th>UTS</th>\n",
       "    </tr>\n",
       "  </thead>\n",
       "  <tbody>\n",
       "    <tr>\n",
       "      <th>0</th>\n",
       "      <td>1812</td>\n",
       "      <td>26</td>\n",
       "      <td>2.00</td>\n",
       "      <td>371.54</td>\n",
       "    </tr>\n",
       "    <tr>\n",
       "      <th>1</th>\n",
       "      <td>1569</td>\n",
       "      <td>35</td>\n",
       "      <td>1.65</td>\n",
       "      <td>440.00</td>\n",
       "    </tr>\n",
       "    <tr>\n",
       "      <th>2</th>\n",
       "      <td>1569</td>\n",
       "      <td>35</td>\n",
       "      <td>2.00</td>\n",
       "      <td>431.00</td>\n",
       "    </tr>\n",
       "    <tr>\n",
       "      <th>3</th>\n",
       "      <td>1569</td>\n",
       "      <td>26</td>\n",
       "      <td>1.65</td>\n",
       "      <td>418.59</td>\n",
       "    </tr>\n",
       "    <tr>\n",
       "      <th>4</th>\n",
       "      <td>1569</td>\n",
       "      <td>35</td>\n",
       "      <td>1.30</td>\n",
       "      <td>396.66</td>\n",
       "    </tr>\n",
       "  </tbody>\n",
       "</table>\n",
       "</div>"
      ],
      "text/plain": [
       "     RS  WS    TA     UTS\n",
       "0  1812  26  2.00  371.54\n",
       "1  1569  35  1.65  440.00\n",
       "2  1569  35  2.00  431.00\n",
       "3  1569  26  1.65  418.59\n",
       "4  1569  35  1.30  396.66"
      ]
     },
     "execution_count": 80,
     "metadata": {},
     "output_type": "execute_result"
    }
   ],
   "source": [
    "df=pd.read_csv('E:\\JUPYTER NOTE BOOK\\Dataset/Fs_dataset.csv')\n",
    "df.head()"
   ]
  },
  {
   "cell_type": "code",
   "execution_count": 81,
   "metadata": {
    "colab": {
     "base_uri": "https://localhost:8080/",
     "height": 300
    },
    "executionInfo": {
     "elapsed": 7,
     "status": "ok",
     "timestamp": 1665289805272,
     "user": {
      "displayName": "brijesh kumar",
      "userId": "13775173205173304916"
     },
     "user_tz": -330
    },
    "id": "wcha7L0fM3T8",
    "outputId": "9f8bf7a3-8fa3-458c-8b09-e739bc80a145"
   },
   "outputs": [
    {
     "data": {
      "text/html": [
       "<div>\n",
       "<style scoped>\n",
       "    .dataframe tbody tr th:only-of-type {\n",
       "        vertical-align: middle;\n",
       "    }\n",
       "\n",
       "    .dataframe tbody tr th {\n",
       "        vertical-align: top;\n",
       "    }\n",
       "\n",
       "    .dataframe thead th {\n",
       "        text-align: right;\n",
       "    }\n",
       "</style>\n",
       "<table border=\"1\" class=\"dataframe\">\n",
       "  <thead>\n",
       "    <tr style=\"text-align: right;\">\n",
       "      <th></th>\n",
       "      <th>RS</th>\n",
       "      <th>WS</th>\n",
       "      <th>TA</th>\n",
       "      <th>UTS</th>\n",
       "    </tr>\n",
       "  </thead>\n",
       "  <tbody>\n",
       "    <tr>\n",
       "      <th>count</th>\n",
       "      <td>60.00000</td>\n",
       "      <td>60.00000</td>\n",
       "      <td>60.000000</td>\n",
       "      <td>60.000000</td>\n",
       "    </tr>\n",
       "    <tr>\n",
       "      <th>mean</th>\n",
       "      <td>1568.75000</td>\n",
       "      <td>34.75000</td>\n",
       "      <td>1.650000</td>\n",
       "      <td>428.505667</td>\n",
       "    </tr>\n",
       "    <tr>\n",
       "      <th>std</th>\n",
       "      <td>173.63371</td>\n",
       "      <td>6.06637</td>\n",
       "      <td>0.249576</td>\n",
       "      <td>30.922975</td>\n",
       "    </tr>\n",
       "    <tr>\n",
       "      <th>min</th>\n",
       "      <td>1325.00000</td>\n",
       "      <td>26.00000</td>\n",
       "      <td>1.300000</td>\n",
       "      <td>336.600000</td>\n",
       "    </tr>\n",
       "    <tr>\n",
       "      <th>25%</th>\n",
       "      <td>1508.00000</td>\n",
       "      <td>32.75000</td>\n",
       "      <td>1.562500</td>\n",
       "      <td>422.025000</td>\n",
       "    </tr>\n",
       "    <tr>\n",
       "      <th>50%</th>\n",
       "      <td>1569.00000</td>\n",
       "      <td>35.00000</td>\n",
       "      <td>1.650000</td>\n",
       "      <td>437.800000</td>\n",
       "    </tr>\n",
       "    <tr>\n",
       "      <th>75%</th>\n",
       "      <td>1629.75000</td>\n",
       "      <td>37.00000</td>\n",
       "      <td>1.737500</td>\n",
       "      <td>447.225000</td>\n",
       "    </tr>\n",
       "    <tr>\n",
       "      <th>max</th>\n",
       "      <td>1812.00000</td>\n",
       "      <td>43.00000</td>\n",
       "      <td>2.000000</td>\n",
       "      <td>478.400000</td>\n",
       "    </tr>\n",
       "  </tbody>\n",
       "</table>\n",
       "</div>"
      ],
      "text/plain": [
       "               RS        WS         TA         UTS\n",
       "count    60.00000  60.00000  60.000000   60.000000\n",
       "mean   1568.75000  34.75000   1.650000  428.505667\n",
       "std     173.63371   6.06637   0.249576   30.922975\n",
       "min    1325.00000  26.00000   1.300000  336.600000\n",
       "25%    1508.00000  32.75000   1.562500  422.025000\n",
       "50%    1569.00000  35.00000   1.650000  437.800000\n",
       "75%    1629.75000  37.00000   1.737500  447.225000\n",
       "max    1812.00000  43.00000   2.000000  478.400000"
      ]
     },
     "execution_count": 81,
     "metadata": {},
     "output_type": "execute_result"
    }
   ],
   "source": [
    "df.describe()"
   ]
  },
  {
   "cell_type": "code",
   "execution_count": 82,
   "metadata": {
    "executionInfo": {
     "elapsed": 6,
     "status": "ok",
     "timestamp": 1665289805272,
     "user": {
      "displayName": "brijesh kumar",
      "userId": "13775173205173304916"
     },
     "user_tz": -330
    },
    "id": "2b7kJUqv04Mu"
   },
   "outputs": [],
   "source": [
    "x=df[['RS', 'WS', 'TA']]\n",
    "y=df['UTS']"
   ]
  },
  {
   "cell_type": "code",
   "execution_count": 83,
   "metadata": {
    "executionInfo": {
     "elapsed": 7,
     "status": "ok",
     "timestamp": 1665289805273,
     "user": {
      "displayName": "brijesh kumar",
      "userId": "13775173205173304916"
     },
     "user_tz": -330
    },
    "id": "JDseE0c803H_"
   },
   "outputs": [],
   "source": [
    "from sklearn.model_selection import train_test_split"
   ]
  },
  {
   "cell_type": "code",
   "execution_count": 84,
   "metadata": {
    "executionInfo": {
     "elapsed": 7,
     "status": "ok",
     "timestamp": 1665289805273,
     "user": {
      "displayName": "brijesh kumar",
      "userId": "13775173205173304916"
     },
     "user_tz": -330
    },
    "id": "xuEjie_z1L4d"
   },
   "outputs": [],
   "source": [
    "X_train, X_test, y_train, y_test = train_test_split(x, y, test_size = 0.10, random_state =3)"
   ]
  },
  {
   "cell_type": "markdown",
   "metadata": {
    "id": "aDkhoMXtNs0p"
   },
   "source": [
    "Scaling\n",
    "https://www.youtube.com/watch?v=goMoUHl8q6c&t=429s"
   ]
  },
  {
   "cell_type": "code",
   "execution_count": 85,
   "metadata": {
    "executionInfo": {
     "elapsed": 571,
     "status": "ok",
     "timestamp": 1665289805838,
     "user": {
      "displayName": "brijesh kumar",
      "userId": "13775173205173304916"
     },
     "user_tz": -330
    },
    "id": "wA9npnxb1P01"
   },
   "outputs": [],
   "source": [
    "from sklearn.preprocessing import StandardScaler\n",
    "scaler = StandardScaler()\n",
    "X_train = scaler.fit_transform(X_train)\n",
    "X_test = scaler.transform(X_test)"
   ]
  },
  {
   "cell_type": "markdown",
   "metadata": {
    "id": "veGSgBY_1V2E"
   },
   "source": [
    "# **Linear Regresion Machine learing model**"
   ]
  },
  {
   "cell_type": "code",
   "execution_count": 86,
   "metadata": {
    "executionInfo": {
     "elapsed": 5,
     "status": "ok",
     "timestamp": 1665289805839,
     "user": {
      "displayName": "brijesh kumar",
      "userId": "13775173205173304916"
     },
     "user_tz": -330
    },
    "id": "MRfMQ4Aj1c-J"
   },
   "outputs": [],
   "source": [
    "regressor = LinearRegression()\n",
    "regressor.fit(X_train, y_train)\n",
    "y_pred = regressor.predict(X_test)"
   ]
  },
  {
   "cell_type": "code",
   "execution_count": 87,
   "metadata": {
    "colab": {
     "base_uri": "https://localhost:8080/"
    },
    "executionInfo": {
     "elapsed": 5,
     "status": "ok",
     "timestamp": 1665289805839,
     "user": {
      "displayName": "brijesh kumar",
      "userId": "13775173205173304916"
     },
     "user_tz": -330
    },
    "id": "pRr3xtgd1jp-",
    "outputId": "32ff1783-2b7c-4759-9336-c65692df2a35"
   },
   "outputs": [
    {
     "data": {
      "text/plain": [
       "0.7810236521734591"
      ]
     },
     "execution_count": 87,
     "metadata": {},
     "output_type": "execute_result"
    }
   ],
   "source": [
    "r2_score(y_test, y_pred)"
   ]
  },
  {
   "cell_type": "code",
   "execution_count": 88,
   "metadata": {
    "colab": {
     "base_uri": "https://localhost:8080/",
     "height": 386
    },
    "executionInfo": {
     "elapsed": 494,
     "status": "ok",
     "timestamp": 1665289893954,
     "user": {
      "displayName": "brijesh kumar",
      "userId": "13775173205173304916"
     },
     "user_tz": -330
    },
    "id": "Xz6fIfoJAyN7",
    "outputId": "a49d7be8-e58f-47e5-93c2-fb28fad6b615"
   },
   "outputs": [
    {
     "data": {
      "text/plain": [
       "<AxesSubplot:xlabel='UTS', ylabel='Density'>"
      ]
     },
     "execution_count": 88,
     "metadata": {},
     "output_type": "execute_result"
    },
    {
     "data": {
      "image/png": "[encoded data removed]",
      "text/plain": [
       "<Figure size 432x288 with 1 Axes>"
      ]
     },
     "metadata": {
      "needs_background": "light"
     },
     "output_type": "display_data"
    }
   ],
   "source": [
    "ax1=sns.distplot(y_test,hist=False,color='r',label='actual values')\n",
    "sns.distplot(y_pred,hist=False,color='b',label='Predicted _values',ax=ax1)"
   ]
  },
  {
   "cell_type": "code",
   "execution_count": 89,
   "metadata": {
    "colab": {
     "base_uri": "https://localhost:8080/",
     "height": 282
    },
    "executionInfo": {
     "elapsed": 376,
     "status": "ok",
     "timestamp": 1665289957484,
     "user": {
      "displayName": "brijesh kumar",
      "userId": "13775173205173304916"
     },
     "user_tz": -330
    },
    "id": "3KkuDAjbA5Rr",
    "outputId": "eea5fd1d-be17-40e2-dea9-17b640bdb18f"
   },
   "outputs": [
    {
     "data": {
      "text/plain": [
       "<AxesSubplot:>"
      ]
     },
     "execution_count": 89,
     "metadata": {},
     "output_type": "execute_result"
    },
    {
     "data": {
      "image/png": "[encoded data removed]",
      "text/plain": [
       "<Figure size 432x288 with 1 Axes>"
      ]
     },
     "metadata": {
      "needs_background": "light"
     },
     "output_type": "display_data"
    }
   ],
   "source": [
    "import numpy as np\n",
    "from sklearn.preprocessing import PolynomialFeatures\n",
    "requ_test=[]\n",
    "order=[1,2,3,4,5,6,7,8,9,10]\n",
    "for i in order:\n",
    "  pr=PolynomialFeatures(degree=i)\n",
    "  x_train_pr=pr.fit_transform(X_train)\n",
    "  x_test_pr=pr.fit_transform(X_test)\n",
    "  regressor.fit(x_train_pr,y_train)\n",
    "  requ_test.append(regressor.score(x_test_pr,y_test))\n",
    "sns.lineplot(x=order,y=requ_test) "
   ]
  },
  {
   "cell_type": "code",
   "execution_count": 90,
   "metadata": {
    "colab": {
     "base_uri": "https://localhost:8080/"
    },
    "executionInfo": {
     "elapsed": 340,
     "status": "ok",
     "timestamp": 1665290008148,
     "user": {
      "displayName": "brijesh kumar",
      "userId": "13775173205173304916"
     },
     "user_tz": -330
    },
    "id": "RsGjcX4aBKUb",
    "outputId": "9a6450da-67b5-409f-f254-a22e387a38a4"
   },
   "outputs": [
    {
     "data": {
      "text/plain": [
       "0.994085618508697"
      ]
     },
     "execution_count": 90,
     "metadata": {},
     "output_type": "execute_result"
    }
   ],
   "source": [
    "pr=PolynomialFeatures(degree=4)\n",
    "x_train_pr=pr.fit_transform(X_train)\n",
    "x_test_pr=pr.fit_transform(X_test)\n",
    "regressor.fit(x_train_pr,y_train)\n",
    "y_pred_pr=regressor.predict(x_test_pr)\n",
    "r2_score(y_pred_pr,y_test)"
   ]
  },
  {
   "cell_type": "code",
   "execution_count": 91,
   "metadata": {
    "colab": {
     "base_uri": "https://localhost:8080/",
     "height": 386
    },
    "executionInfo": {
     "elapsed": 1278,
     "status": "ok",
     "timestamp": 1665290038668,
     "user": {
      "displayName": "brijesh kumar",
      "userId": "13775173205173304916"
     },
     "user_tz": -330
    },
    "id": "B2GruhSiBTBp",
    "outputId": "81499929-bc99-4947-b256-edb40e9c781e"
   },
   "outputs": [
    {
     "data": {
      "text/plain": [
       "<AxesSubplot:xlabel='UTS', ylabel='Density'>"
      ]
     },
     "execution_count": 91,
     "metadata": {},
     "output_type": "execute_result"
    },
    {
     "data": {
      "image/png": "[encoded data removed]",
      "text/plain": [
       "<Figure size 432x288 with 1 Axes>"
      ]
     },
     "metadata": {
      "needs_background": "light"
     },
     "output_type": "display_data"
    }
   ],
   "source": [
    "ax1=sns.distplot(y_test,hist=False,color='r',label='actual values')\n",
    "sns.distplot(y_pred_pr,hist=False,color='b',label='Predicted _values',ax=ax1)"
   ]
  },
  {
   "cell_type": "code",
   "execution_count": 92,
   "metadata": {
    "colab": {
     "base_uri": "https://localhost:8080/"
    },
    "executionInfo": {
     "elapsed": 4,
     "status": "ok",
     "timestamp": 1665290231726,
     "user": {
      "displayName": "brijesh kumar",
      "userId": "13775173205173304916"
     },
     "user_tz": -330
    },
    "id": "V8q1N5tHBaNB",
    "outputId": "c3b870ae-3a73-4111-c235-230127d9bb27"
   },
   "outputs": [
    {
     "data": {
      "text/plain": [
       "array([476.61425781, 430.21972656, 444.09960938, 340.36425781,\n",
       "       442.67675781, 419.77050781])"
      ]
     },
     "execution_count": 92,
     "metadata": {},
     "output_type": "execute_result"
    }
   ],
   "source": [
    "y_pred_pr"
   ]
  },
  {
   "cell_type": "code",
   "execution_count": 93,
   "metadata": {
    "colab": {
     "base_uri": "https://localhost:8080/"
    },
    "executionInfo": {
     "elapsed": 332,
     "status": "ok",
     "timestamp": 1665290066885,
     "user": {
      "displayName": "brijesh kumar",
      "userId": "13775173205173304916"
     },
     "user_tz": -330
    },
    "id": "tNTuuoqtBcWJ",
    "outputId": "93cbe372-e6e2-4e8f-d181-eea4de63e612"
   },
   "outputs": [
    {
     "data": {
      "text/plain": [
       "47    478.40\n",
       "18    430.26\n",
       "56    449.00\n",
       "13    340.54\n",
       "37    437.60\n",
       "23    416.70\n",
       "Name: UTS, dtype: float64"
      ]
     },
     "execution_count": 93,
     "metadata": {},
     "output_type": "execute_result"
    }
   ],
   "source": [
    "y_test"
   ]
  },
  {
   "cell_type": "code",
   "execution_count": 94,
   "metadata": {
    "colab": {
     "base_uri": "https://localhost:8080/"
    },
    "executionInfo": {
     "elapsed": 5,
     "status": "ok",
     "timestamp": 1665290265399,
     "user": {
      "displayName": "brijesh kumar",
      "userId": "13775173205173304916"
     },
     "user_tz": -330
    },
    "id": "O8HsT9gIB98V",
    "outputId": "3113b9e0-ac95-43e8-a9d7-b4df5557d00d"
   },
   "outputs": [
    {
     "data": {
      "text/plain": [
       "10.406116469573936"
      ]
     },
     "execution_count": 94,
     "metadata": {},
     "output_type": "execute_result"
    }
   ],
   "source": [
    "mean_squared_error(y_test,y_pred_pr)"
   ]
  },
  {
   "cell_type": "markdown",
   "metadata": {
    "id": "ttiV2NR22YM-"
   },
   "source": [
    "# **Decision Tree**"
   ]
  },
  {
   "cell_type": "code",
   "execution_count": 95,
   "metadata": {
    "colab": {
     "base_uri": "https://localhost:8080/"
    },
    "executionInfo": {
     "elapsed": 4,
     "status": "ok",
     "timestamp": 1665289805839,
     "user": {
      "displayName": "brijesh kumar",
      "userId": "13775173205173304916"
     },
     "user_tz": -330
    },
    "id": "iGa79RDk19AO",
    "outputId": "6ad7a3fc-2830-45a8-ae75-de5e9b85d959"
   },
   "outputs": [
    {
     "data": {
      "text/plain": [
       "array([476.375     , 430.2       , 443.76352941, 339.8       ,\n",
       "       440.47      , 419.445     ])"
      ]
     },
     "execution_count": 95,
     "metadata": {},
     "output_type": "execute_result"
    }
   ],
   "source": [
    "from sklearn.tree import DecisionTreeRegressor\n",
    "decision_tree=DecisionTreeRegressor(criterion='squared_error',max_leaf_nodes=25,random_state=0)\n",
    "decision_tree.fit(X_train,y_train)\n",
    "y_pred_dt=decision_tree.predict(X_test)\n",
    "y_pred_dt"
   ]
  },
  {
   "cell_type": "code",
   "execution_count": 96,
   "metadata": {
    "colab": {
     "base_uri": "https://localhost:8080/"
    },
    "executionInfo": {
     "elapsed": 386,
     "status": "ok",
     "timestamp": 1665289806222,
     "user": {
      "displayName": "brijesh kumar",
      "userId": "13775173205173304916"
     },
     "user_tz": -330
    },
    "id": "U_yqlcI92IPW",
    "outputId": "7b277920-e238-4b36-96d3-37c32ad73998"
   },
   "outputs": [
    {
     "data": {
      "text/plain": [
       "47    478.40\n",
       "18    430.26\n",
       "56    449.00\n",
       "13    340.54\n",
       "37    437.60\n",
       "23    416.70\n",
       "Name: UTS, dtype: float64"
      ]
     },
     "execution_count": 96,
     "metadata": {},
     "output_type": "execute_result"
    }
   ],
   "source": [
    "y_test"
   ]
  },
  {
   "cell_type": "code",
   "execution_count": 97,
   "metadata": {
    "colab": {
     "base_uri": "https://localhost:8080/"
    },
    "executionInfo": {
     "elapsed": 6,
     "status": "ok",
     "timestamp": 1665289806222,
     "user": {
      "displayName": "brijesh kumar",
      "userId": "13775173205173304916"
     },
     "user_tz": -330
    },
    "id": "C0uQflSP2NkW",
    "outputId": "cbedfdfa-5551-4ff2-993c-f5e75f45f7c7"
   },
   "outputs": [
    {
     "data": {
      "text/plain": [
       "0.9955762436159243"
      ]
     },
     "execution_count": 97,
     "metadata": {},
     "output_type": "execute_result"
    }
   ],
   "source": [
    "r2_score(y_test,y_pred_dt)"
   ]
  },
  {
   "cell_type": "code",
   "execution_count": 98,
   "metadata": {
    "colab": {
     "base_uri": "https://localhost:8080/",
     "height": 386
    },
    "executionInfo": {
     "elapsed": 625,
     "status": "ok",
     "timestamp": 1665289806843,
     "user": {
      "displayName": "brijesh kumar",
      "userId": "13775173205173304916"
     },
     "user_tz": -330
    },
    "id": "WCr54rTZAR_r",
    "outputId": "ae75c863-2e1f-413a-b729-adcebc3389f6"
   },
   "outputs": [
    {
     "data": {
      "text/plain": [
       "<AxesSubplot:xlabel='UTS', ylabel='Density'>"
      ]
     },
     "execution_count": 98,
     "metadata": {},
     "output_type": "execute_result"
    },
    {
     "data": {
      "image/png": "[encoded data removed]",
      "text/plain": [
       "<Figure size 432x288 with 1 Axes>"
      ]
     },
     "metadata": {
      "needs_background": "light"
     },
     "output_type": "display_data"
    }
   ],
   "source": [
    "ax1=sns.distplot(y_test,hist=False,color='r',label='actual values')\n",
    "sns.distplot(y_pred_dt,hist=False,color='b',label='Predicted _values',ax=ax1)"
   ]
  },
  {
   "cell_type": "code",
   "execution_count": 99,
   "metadata": {
    "colab": {
     "base_uri": "https://localhost:8080/"
    },
    "executionInfo": {
     "elapsed": 4,
     "status": "ok",
     "timestamp": 1665290296324,
     "user": {
      "displayName": "brijesh kumar",
      "userId": "13775173205173304916"
     },
     "user_tz": -330
    },
    "id": "nCJcWxguCSUM",
    "outputId": "5d45980e-8a00-4730-9fa2-b3c896ffd9bb"
   },
   "outputs": [
    {
     "data": {
      "text/plain": [
       "7.974062370242131"
      ]
     },
     "execution_count": 99,
     "metadata": {},
     "output_type": "execute_result"
    }
   ],
   "source": [
    "mean_squared_error(y_test,y_pred_dt)"
   ]
  },
  {
   "cell_type": "markdown",
   "metadata": {
    "id": "7SjMdmbf3hcH"
   },
   "source": [
    "# Random Forest Regressor"
   ]
  },
  {
   "cell_type": "code",
   "execution_count": 100,
   "metadata": {
    "colab": {
     "base_uri": "https://localhost:8080/"
    },
    "executionInfo": {
     "elapsed": 690,
     "status": "ok",
     "timestamp": 1665289807525,
     "user": {
      "displayName": "brijesh kumar",
      "userId": "13775173205173304916"
     },
     "user_tz": -330
    },
    "id": "-uwbAmxD3lq2",
    "outputId": "32e14e5c-7720-47da-aabf-f2cb9618bb1b"
   },
   "outputs": [
    {
     "data": {
      "text/plain": [
       "array([476.0375    , 431.05      , 444.23428571, 339.8       ,\n",
       "       440.055     , 419.8725    ])"
      ]
     },
     "execution_count": 100,
     "metadata": {},
     "output_type": "execute_result"
    }
   ],
   "source": [
    "from sklearn.ensemble import RandomForestRegressor\n",
    "rf=RandomForestRegressor(n_estimators=2)\n",
    "rf.fit(X_train,y_train)\n",
    "rf_pred=rf.predict(X_test)\n",
    "rf_pred[:10]"
   ]
  },
  {
   "cell_type": "code",
   "execution_count": 101,
   "metadata": {
    "colab": {
     "base_uri": "https://localhost:8080/"
    },
    "executionInfo": {
     "elapsed": 14,
     "status": "ok",
     "timestamp": 1665289807526,
     "user": {
      "displayName": "brijesh kumar",
      "userId": "13775173205173304916"
     },
     "user_tz": -330
    },
    "id": "3TNfCRGU3sA4",
    "outputId": "5442f976-201b-4e1a-8a18-23c6663a2188"
   },
   "outputs": [
    {
     "data": {
      "text/plain": [
       "47    478.40\n",
       "18    430.26\n",
       "56    449.00\n",
       "13    340.54\n",
       "37    437.60\n",
       "23    416.70\n",
       "Name: UTS, dtype: float64"
      ]
     },
     "execution_count": 101,
     "metadata": {},
     "output_type": "execute_result"
    }
   ],
   "source": [
    "y_test"
   ]
  },
  {
   "cell_type": "code",
   "execution_count": 102,
   "metadata": {
    "colab": {
     "base_uri": "https://localhost:8080/"
    },
    "executionInfo": {
     "elapsed": 10,
     "status": "ok",
     "timestamp": 1665289807526,
     "user": {
      "displayName": "brijesh kumar",
      "userId": "13775173205173304916"
     },
     "user_tz": -330
    },
    "id": "lHlo1HUN3u1t",
    "outputId": "f9647394-9b03-493c-dfd4-233808cbdf16"
   },
   "outputs": [
    {
     "data": {
      "text/plain": [
       "0.9957877447527453"
      ]
     },
     "execution_count": 102,
     "metadata": {},
     "output_type": "execute_result"
    }
   ],
   "source": [
    "r2_score(y_test,rf_pred)"
   ]
  },
  {
   "cell_type": "code",
   "execution_count": 103,
   "metadata": {
    "colab": {
     "base_uri": "https://localhost:8080/",
     "height": 386
    },
    "executionInfo": {
     "elapsed": 418,
     "status": "ok",
     "timestamp": 1665289879807,
     "user": {
      "displayName": "brijesh kumar",
      "userId": "13775173205173304916"
     },
     "user_tz": -330
    },
    "id": "yNaQxxUuArY7",
    "outputId": "c4446ffa-84d1-45c0-c794-e0775192754b"
   },
   "outputs": [
    {
     "data": {
      "text/plain": [
       "<AxesSubplot:xlabel='UTS', ylabel='Density'>"
      ]
     },
     "execution_count": 103,
     "metadata": {},
     "output_type": "execute_result"
    },
    {
     "data": {
      "image/png": "[encoded data removed]",
      "text/plain": [
       "<Figure size 432x288 with 1 Axes>"
      ]
     },
     "metadata": {
      "needs_background": "light"
     },
     "output_type": "display_data"
    }
   ],
   "source": [
    "ax1=sns.distplot(y_test,hist=False,color='r',label='actual values')\n",
    "sns.distplot(rf_pred,hist=False,color='b',label='Predicted _values',ax=ax1)"
   ]
  },
  {
   "cell_type": "code",
   "execution_count": 104,
   "metadata": {
    "colab": {
     "base_uri": "https://localhost:8080/",
     "height": 351
    },
    "executionInfo": {
     "elapsed": 9,
     "status": "ok",
     "timestamp": 1665289807527,
     "user": {
      "displayName": "brijesh kumar",
      "userId": "13775173205173304916"
     },
     "user_tz": -330
    },
    "id": "4BhKZhc4N47E",
    "outputId": "4364981f-b342-42bd-a26c-e1341107d30e"
   },
   "outputs": [
    {
     "data": {
      "text/plain": [
       "<AxesSubplot:xlabel='UTS'>"
      ]
     },
     "execution_count": 104,
     "metadata": {},
     "output_type": "execute_result"
    },
    {
     "data": {
      "image/png": "[encoded data removed]",
      "text/plain": [
       "<Figure size 432x288 with 1 Axes>"
      ]
     },
     "metadata": {
      "needs_background": "light"
     },
     "output_type": "display_data"
    }
   ],
   "source": [
    "sns.regplot(y_test,rf_pred)"
   ]
  }
 ],
 "metadata": {
  "colab": {
   "authorship_tag": "ABX9TyPu3uCtXIqA/gE7FO9V31Wd",
   "collapsed_sections": [],
   "mount_file_id": "1Cxic3n3mszK82ui7g1j5Jd3IydComq29",
   "provenance": []
  },
  "kernelspec": {
   "display_name": "Python 3 (ipykernel)",
   "language": "python",
   "name": "python3"
  },
  "language_info": {
   "codemirror_mode": {
    "name": "ipython",
    "version": 3
   },
   "file_extension": ".py",
   "mimetype": "text/x-python",
   "name": "python",
   "nbconvert_exporter": "python",
   "pygments_lexer": "ipython3",
   "version": "3.9.12"
  }
 },
 "nbformat": 4,
 "nbformat_minor": 1
}
